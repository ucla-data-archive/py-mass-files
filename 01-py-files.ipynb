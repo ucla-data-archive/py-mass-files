{
 "cells": [
  {
   "cell_type": "markdown",
   "metadata": {},
   "source": [
    "* on Win paths are written using `\\` as a separator \n",
    "* on Mac we us `/` \n",
    "* if you want your programs to work everywhere you need to handle both cases\n",
    "* **Good news** is the `os` modules makes it happen seamlessly based on the `os` you are on"
   ]
  },
  {
   "cell_type": "code",
   "execution_count": 9,
   "metadata": {
    "collapsed": true
   },
   "outputs": [],
   "source": [
    "from faker import Faker"
   ]
  },
  {
   "cell_type": "code",
   "execution_count": 10,
   "metadata": {
    "collapsed": true
   },
   "outputs": [],
   "source": [
    "fake = Faker()"
   ]
  },
  {
   "cell_type": "code",
   "execution_count": 71,
   "metadata": {
    "collapsed": true
   },
   "outputs": [],
   "source": [
    "import os\n",
    "import shutil"
   ]
  },
  {
   "cell_type": "code",
   "execution_count": 6,
   "metadata": {},
   "outputs": [
    {
     "data": {
      "text/plain": [
       "'usr/bin/spam'"
      ]
     },
     "execution_count": 6,
     "metadata": {},
     "output_type": "execute_result"
    }
   ],
   "source": [
    "os.path.join('usr', 'bin', 'spam')\n",
    "#if this was windows it would separate by `\\\\` \n",
    "# `\\` needs to be escaped - in this case `\\` happens\n",
    "# to be a special character, so if used in a script\n",
    "# it won't confuse python (think =)"
   ]
  },
  {
   "cell_type": "markdown",
   "metadata": {},
   "source": [
    "* `os.path.join()` is helpful if you need to create strings for filenames\n",
    "* we will use this function to create file strings and pass to functions\n",
    "* for example"
   ]
  },
  {
   "cell_type": "code",
   "execution_count": 7,
   "metadata": {
    "collapsed": true
   },
   "outputs": [],
   "source": [
    "my_files = ['accounts.txt', 'details.csv', 'invite.docx']"
   ]
  },
  {
   "cell_type": "code",
   "execution_count": 9,
   "metadata": {},
   "outputs": [
    {
     "data": {
      "text/plain": [
       "['accounts.txt', 'details.csv', 'invite.docx']"
      ]
     },
     "execution_count": 9,
     "metadata": {},
     "output_type": "execute_result"
    }
   ],
   "source": [
    "my_files"
   ]
  },
  {
   "cell_type": "code",
   "execution_count": 10,
   "metadata": {},
   "outputs": [
    {
     "name": "stdout",
     "output_type": "stream",
     "text": [
      "/Users/timdennis/Desktop/accounts.txt\n",
      "/Users/timdennis/Desktop/details.csv\n",
      "/Users/timdennis/Desktop/invite.docx\n"
     ]
    }
   ],
   "source": [
    "for filename in my_files:\n",
    "    print(os.path.join('/Users/timdennis/Desktop/', filename))"
   ]
  },
  {
   "cell_type": "markdown",
   "metadata": {},
   "source": [
    "### Current working dir\n",
    "\n",
    "* we can use `os` module to get current working directory"
   ]
  },
  {
   "cell_type": "code",
   "execution_count": 12,
   "metadata": {},
   "outputs": [
    {
     "data": {
      "text/plain": [
       "'/Users/timdennis/lessons/py-mass-useful'"
      ]
     },
     "execution_count": 12,
     "metadata": {},
     "output_type": "execute_result"
    }
   ],
   "source": [
    "os.getcwd()"
   ]
  },
  {
   "cell_type": "markdown",
   "metadata": {},
   "source": [
    "* we can change our working directory by using `os.chrdir()` with the path quoted\n",
    "* Why is the path quoted? "
   ]
  },
  {
   "cell_type": "code",
   "execution_count": 16,
   "metadata": {
    "collapsed": true
   },
   "outputs": [],
   "source": [
    "os.chdir('/Users/timdennis/Desktop/')"
   ]
  },
  {
   "cell_type": "markdown",
   "metadata": {},
   "source": [
    "* let's confirm that it changed by using `os.getcwd()`"
   ]
  },
  {
   "cell_type": "code",
   "execution_count": 17,
   "metadata": {},
   "outputs": [
    {
     "data": {
      "text/plain": [
       "'/Users/timdennis/Desktop'"
      ]
     },
     "execution_count": 17,
     "metadata": {},
     "output_type": "execute_result"
    }
   ],
   "source": [
    "os.getcwd()"
   ]
  },
  {
   "cell_type": "markdown",
   "metadata": {},
   "source": [
    "* python will throw an error if try to change to a dir that doesn't exist"
   ]
  },
  {
   "cell_type": "code",
   "execution_count": 18,
   "metadata": {},
   "outputs": [
    {
     "ename": "FileNotFoundError",
     "evalue": "[Errno 2] No such file or directory: '/Users/nodir'",
     "output_type": "error",
     "traceback": [
      "\u001b[0;31m---------------------------------------------------------------------------\u001b[0m",
      "\u001b[0;31mFileNotFoundError\u001b[0m                         Traceback (most recent call last)",
      "\u001b[0;32m<ipython-input-18-de039d19e89d>\u001b[0m in \u001b[0;36m<module>\u001b[0;34m()\u001b[0m\n\u001b[0;32m----> 1\u001b[0;31m \u001b[0mos\u001b[0m\u001b[0;34m.\u001b[0m\u001b[0mchdir\u001b[0m\u001b[0;34m(\u001b[0m\u001b[0;34m'/Users/nodir'\u001b[0m\u001b[0;34m)\u001b[0m\u001b[0;34m\u001b[0m\u001b[0m\n\u001b[0m",
      "\u001b[0;31mFileNotFoundError\u001b[0m: [Errno 2] No such file or directory: '/Users/nodir'"
     ]
    }
   ],
   "source": [
    "os.chdir('/Users/nodir')"
   ]
  },
  {
   "cell_type": "markdown",
   "metadata": {},
   "source": [
    "### Relative and absolute"
   ]
  },
  {
   "cell_type": "code",
   "execution_count": 22,
   "metadata": {
    "collapsed": true
   },
   "outputs": [],
   "source": [
    "os.chdir('/Users/timdennis/lessons/py-mass-useful')"
   ]
  },
  {
   "cell_type": "markdown",
   "metadata": {},
   "source": [
    "![directories and paths](images/file-structure.png)"
   ]
  },
  {
   "cell_type": "markdown",
   "metadata": {},
   "source": [
    "### Creating folders "
   ]
  },
  {
   "cell_type": "markdown",
   "metadata": {},
   "source": [
    "* we can create new directories\n",
    "* we'll use `os.makedirs()`"
   ]
  },
  {
   "cell_type": "code",
   "execution_count": 23,
   "metadata": {},
   "outputs": [
    {
     "data": {
      "text/plain": [
       "'/Users/timdennis/lessons/py-mass-useful'"
      ]
     },
     "execution_count": 23,
     "metadata": {},
     "output_type": "execute_result"
    }
   ],
   "source": [
    "os.getcwd()"
   ]
  },
  {
   "cell_type": "markdown",
   "metadata": {},
   "source": [
    "* I'm going to put this on my Desktop so I won't forget it"
   ]
  },
  {
   "cell_type": "code",
   "execution_count": 24,
   "metadata": {
    "collapsed": true
   },
   "outputs": [],
   "source": [
    "os.chdir('/Users/timdennis/Desktop/')"
   ]
  },
  {
   "cell_type": "markdown",
   "metadata": {},
   "source": [
    "* We can make derectories using `os.makedirs()`\n",
    "* Let's make one up for fun and then clean up our working space. "
   ]
  },
  {
   "cell_type": "code",
   "execution_count": 25,
   "metadata": {
    "collapsed": true
   },
   "outputs": [],
   "source": [
    "os.makedirs(\"/Users/timdennis/Desktop/delicious/walnut/waffles\")"
   ]
  },
  {
   "cell_type": "markdown",
   "metadata": {},
   "source": [
    "* What do you think it did? \n",
    "* This will create not just `delicious`, but `walnut` inside `delicious` and a `waffles` inside `delicious/walnut`\n",
    "* Go to finder to show\n",
    "* Now lets move stuff into it - here we'll use the shutil module, which provides a funciton for copying files and folders"
   ]
  },
  {
   "cell_type": "code",
   "execution_count": 72,
   "metadata": {},
   "outputs": [
    {
     "data": {
      "text/plain": [
       "'/Users/timdennis/lessons/py-mass-useful'"
      ]
     },
     "execution_count": 72,
     "metadata": {},
     "output_type": "execute_result"
    }
   ],
   "source": [
    "os.getcwd()"
   ]
  },
  {
   "cell_type": "code",
   "execution_count": 73,
   "metadata": {},
   "outputs": [
    {
     "data": {
      "text/plain": [
       "'/Users/timdennis/Desktop/delicious/walnut/waffles/2018-01-06-report.csv'"
      ]
     },
     "execution_count": 73,
     "metadata": {},
     "output_type": "execute_result"
    }
   ],
   "source": [
    "shutil.copy('data/01-combined/2018-01-06-report.csv', '/Users/timdennis/Desktop/delicious/walnut/waffles/')"
   ]
  },
  {
   "cell_type": "code",
   "execution_count": null,
   "metadata": {
    "collapsed": true
   },
   "outputs": [],
   "source": [
    "shutil.c"
   ]
  },
  {
   "cell_type": "markdown",
   "metadata": {},
   "source": [
    "* We can also rename when we copy\n",
    "* Here's how:"
   ]
  },
  {
   "cell_type": "code",
   "execution_count": 74,
   "metadata": {
    "scrolled": true
   },
   "outputs": [
    {
     "data": {
      "text/plain": [
       "'/Users/timdennis/Desktop/delicious/walnut/waffles/2018-report.csv'"
      ]
     },
     "execution_count": 74,
     "metadata": {},
     "output_type": "execute_result"
    }
   ],
   "source": [
    "shutil.copy('data/01-combined/2018-01-06-report.csv', '/Users/timdennis/Desktop/delicious/walnut/waffles/2018-report.csv')"
   ]
  },
  {
   "cell_type": "markdown",
   "metadata": {},
   "source": [
    "### Remember these, we'll come back to this later"
   ]
  },
  {
   "cell_type": "markdown",
   "metadata": {},
   "source": [
    "### Combining a bunch of CSVs, but grabbing parts of the file for a column"
   ]
  },
  {
   "cell_type": "markdown",
   "metadata": {},
   "source": [
    "* A common case is that we are given or create a bunch of CSV files by a date \n",
    "* They are the same shape (same columns and rows)\n",
    "* We want to combine them together, but add a column that retains the year, month, and day \n",
    "* How do you think we can do this? What Python programming tools will we use? "
   ]
  },
  {
   "cell_type": "code",
   "execution_count": 13,
   "metadata": {},
   "outputs": [
    {
     "name": "stdout",
     "output_type": "stream",
     "text": [
      "2018-01-06-report.csv       2018-02-26-report.csv\r\n",
      "2018-01-09-report.csv       2018-02-27-report.csv\r\n",
      "2018-01-10-report.csv       2018-03-04-report.csv\r\n",
      "2018-01-15-report.csv       2018-03-18-report.csv\r\n",
      "2018-01-30-report.csv       2018-04-03-report.csv\r\n",
      "2018-02-01-report.csv       2018-04-04-report.csv\r\n",
      "2018-02-03-report.csv       2018-04-08-report.csv\r\n",
      "2018-02-04-report.csv       2018-04-19-report.csv\r\n",
      "2018-02-11-report.csv       2018-04-20-report.csv\r\n",
      "2018-02-12-report.csv       \u001b[34mautomate_online-materials 2\u001b[m\u001b[m\r\n",
      "2018-02-22-report.csv\r\n"
     ]
    }
   ],
   "source": [
    "!ls data # our data"
   ]
  },
  {
   "cell_type": "markdown",
   "metadata": {},
   "source": [
    "* We need a python module that will look into a directory and return a list of files\n",
    "* Remember `glob.glob` from last quarter? \n",
    "* IT RETURNS!"
   ]
  },
  {
   "cell_type": "code",
   "execution_count": 14,
   "metadata": {
    "collapsed": true
   },
   "outputs": [],
   "source": [
    "import glob"
   ]
  },
  {
   "cell_type": "code",
   "execution_count": 5,
   "metadata": {},
   "outputs": [
    {
     "data": {
      "text/plain": [
       "['data/2018-01-06-report.csv',\n",
       " 'data/2018-01-09-report.csv',\n",
       " 'data/2018-01-10-report.csv',\n",
       " 'data/2018-01-15-report.csv',\n",
       " 'data/2018-01-30-report.csv',\n",
       " 'data/2018-02-01-report.csv',\n",
       " 'data/2018-02-03-report.csv',\n",
       " 'data/2018-02-04-report.csv',\n",
       " 'data/2018-02-11-report.csv',\n",
       " 'data/2018-02-12-report.csv',\n",
       " 'data/2018-02-22-report.csv',\n",
       " 'data/2018-02-26-report.csv',\n",
       " 'data/2018-02-27-report.csv',\n",
       " 'data/2018-03-04-report.csv',\n",
       " 'data/2018-03-18-report.csv',\n",
       " 'data/2018-04-03-report.csv',\n",
       " 'data/2018-04-04-report.csv',\n",
       " 'data/2018-04-08-report.csv',\n",
       " 'data/2018-04-19-report.csv',\n",
       " 'data/2018-04-20-report.csv']"
      ]
     },
     "execution_count": 5,
     "metadata": {},
     "output_type": "execute_result"
    }
   ],
   "source": [
    "glob.glob('data/*.csv')"
   ]
  },
  {
   "cell_type": "markdown",
   "metadata": {},
   "source": [
    "* What's happening here is that it goes inside the data/ directory and grabs the filenames that have the `.csv` extension\n",
    "* Glob then will return us a list of those files\n",
    "* What does `*` do above? \n",
    "* Now we need to go through those files in the list and apply a function to them\n",
    "* What do we use? \n",
    "* Yes, a loop - we'll start by printing out the name"
   ]
  },
  {
   "cell_type": "code",
   "execution_count": 15,
   "metadata": {},
   "outputs": [
    {
     "name": "stdout",
     "output_type": "stream",
     "text": [
      "data/2018-01-06-report.csv\n",
      "data/2018-01-09-report.csv\n",
      "data/2018-01-10-report.csv\n",
      "data/2018-01-15-report.csv\n",
      "data/2018-01-30-report.csv\n",
      "data/2018-02-01-report.csv\n",
      "data/2018-02-03-report.csv\n",
      "data/2018-02-04-report.csv\n",
      "data/2018-02-11-report.csv\n",
      "data/2018-02-12-report.csv\n",
      "data/2018-02-22-report.csv\n",
      "data/2018-02-26-report.csv\n",
      "data/2018-02-27-report.csv\n",
      "data/2018-03-04-report.csv\n",
      "data/2018-03-18-report.csv\n",
      "data/2018-04-03-report.csv\n",
      "data/2018-04-04-report.csv\n",
      "data/2018-04-08-report.csv\n",
      "data/2018-04-19-report.csv\n",
      "data/2018-04-20-report.csv\n"
     ]
    }
   ],
   "source": [
    "for file in glob.glob('data/*.csv'):\n",
    "    print(file)"
   ]
  },
  {
   "cell_type": "markdown",
   "metadata": {},
   "source": [
    "* Now, let's look at the filenames: `data/2018-03-18-report.csv` \n",
    "* How are the different elements of the file name separated? \n",
    "* What do we want to do to these filenames to use the parts? \n",
    "* Hint: `split()` is a function that is apart of the built-in `str` class (every character string we use in python inherits from `str`. We can get help by running `help(str.split)`\n",
    "* The `split()` function can help"
   ]
  },
  {
   "cell_type": "code",
   "execution_count": 27,
   "metadata": {},
   "outputs": [
    {
     "name": "stdout",
     "output_type": "stream",
     "text": [
      "Help on method_descriptor:\n",
      "\n",
      "split(...)\n",
      "    S.split(sep=None, maxsplit=-1) -> list of strings\n",
      "    \n",
      "    Return a list of the words in S, using sep as the\n",
      "    delimiter string.  If maxsplit is given, at most maxsplit\n",
      "    splits are done. If sep is not specified or is None, any\n",
      "    whitespace string is a separator and empty strings are\n",
      "    removed from the result.\n",
      "\n"
     ]
    }
   ],
   "source": [
    "help(str.split)"
   ]
  },
  {
   "cell_type": "markdown",
   "metadata": {},
   "source": [
    "* What're the possible delimiter in our list of files? \n",
    "    * `.`\n",
    "    * `2018`\n",
    "    * `-`\n",
    "    * Anything in the string"
   ]
  },
  {
   "cell_type": "markdown",
   "metadata": {},
   "source": [
    "* What delimiter do we need to use to get what we want? \n"
   ]
  },
  {
   "cell_type": "code",
   "execution_count": 28,
   "metadata": {},
   "outputs": [
    {
     "data": {
      "text/plain": [
       "['tim', 'dennis']"
      ]
     },
     "execution_count": 28,
     "metadata": {},
     "output_type": "execute_result"
    }
   ],
   "source": [
    "'tim-dennis'.split('-')"
   ]
  },
  {
   "cell_type": "markdown",
   "metadata": {},
   "source": [
    "* Ok, let's get splitting"
   ]
  },
  {
   "cell_type": "code",
   "execution_count": 29,
   "metadata": {},
   "outputs": [
    {
     "name": "stdout",
     "output_type": "stream",
     "text": [
      "['data/2018', '01', '06', 'report.csv']\n",
      "['data/2018', '01', '09', 'report.csv']\n",
      "['data/2018', '01', '10', 'report.csv']\n",
      "['data/2018', '01', '15', 'report.csv']\n",
      "['data/2018', '01', '30', 'report.csv']\n",
      "['data/2018', '02', '01', 'report.csv']\n",
      "['data/2018', '02', '03', 'report.csv']\n",
      "['data/2018', '02', '04', 'report.csv']\n",
      "['data/2018', '02', '11', 'report.csv']\n",
      "['data/2018', '02', '12', 'report.csv']\n",
      "['data/2018', '02', '22', 'report.csv']\n",
      "['data/2018', '02', '26', 'report.csv']\n",
      "['data/2018', '02', '27', 'report.csv']\n",
      "['data/2018', '03', '04', 'report.csv']\n",
      "['data/2018', '03', '18', 'report.csv']\n",
      "['data/2018', '04', '03', 'report.csv']\n",
      "['data/2018', '04', '04', 'report.csv']\n",
      "['data/2018', '04', '08', 'report.csv']\n",
      "['data/2018', '04', '19', 'report.csv']\n",
      "['data/2018', '04', '20', 'report.csv']\n"
     ]
    }
   ],
   "source": [
    "for file in glob.glob('data/*.csv'):\n",
    "    print(file.split('-'))"
   ]
  },
  {
   "cell_type": "markdown",
   "metadata": {},
   "source": [
    "* Let's look at this more closely\n",
    "* First we'll see what splitting on a delimiter does\n",
    "* Then we'll see how we access it's parts"
   ]
  },
  {
   "cell_type": "code",
   "execution_count": 30,
   "metadata": {
    "collapsed": true
   },
   "outputs": [],
   "source": [
    "x = 'data/2018-04-20-report.csv'"
   ]
  },
  {
   "cell_type": "code",
   "execution_count": 31,
   "metadata": {},
   "outputs": [
    {
     "data": {
      "text/plain": [
       "['data/2018', '04', '20', 'report.csv']"
      ]
     },
     "execution_count": 31,
     "metadata": {},
     "output_type": "execute_result"
    }
   ],
   "source": [
    "x.split('-')"
   ]
  },
  {
   "cell_type": "markdown",
   "metadata": {},
   "source": [
    "* What if we split on `/` instead\n",
    "* What would happen?"
   ]
  },
  {
   "cell_type": "code",
   "execution_count": 37,
   "metadata": {},
   "outputs": [
    {
     "data": {
      "text/plain": [
       "['data', '2018-04-20-report.csv']"
      ]
     },
     "execution_count": 37,
     "metadata": {},
     "output_type": "execute_result"
    }
   ],
   "source": [
    "x.split('/')"
   ]
  },
  {
   "cell_type": "markdown",
   "metadata": {},
   "source": [
    "* How do we access parts of this list? \n",
    "* We can use the index for the list\n",
    "* First lest save our splitted object"
   ]
  },
  {
   "cell_type": "code",
   "execution_count": 38,
   "metadata": {
    "collapsed": true
   },
   "outputs": [],
   "source": [
    "split_x = x.split('-')"
   ]
  },
  {
   "cell_type": "code",
   "execution_count": 39,
   "metadata": {},
   "outputs": [
    {
     "data": {
      "text/plain": [
       "['data/2018', '04', '20', 'report.csv']"
      ]
     },
     "execution_count": 39,
     "metadata": {},
     "output_type": "execute_result"
    }
   ],
   "source": [
    "split_x"
   ]
  },
  {
   "cell_type": "markdown",
   "metadata": {},
   "source": [
    "### Challenge\n",
    "\n",
    "**Fill in the blank:** \n",
    "\n",
    "`print('first: ', x[_], 'second: ', x[_], 'third: ', x[_], 'fourth: ', x[_])`\n",
    "\n",
    "**So your output looks like this**\n",
    "\n",
    "`first:  data/2018 second:  04 third:  20 fourth:  report.csv`\n"
   ]
  },
  {
   "cell_type": "code",
   "execution_count": 40,
   "metadata": {},
   "outputs": [
    {
     "name": "stdout",
     "output_type": "stream",
     "text": [
      "first:  d second:  a third:  t fourth:  a\n"
     ]
    }
   ],
   "source": [
    "#answer\n",
    "print('first: ', x[0], 'second: ', x[1], 'third: ', x[2], 'fourth: ', x[3])"
   ]
  },
  {
   "cell_type": "markdown",
   "metadata": {},
   "source": [
    "### How do we split the first element `data/2018` and then append the result to `split_x`?\n",
    "\n",
    "**Hint: we want to use the list function `append`**"
   ]
  },
  {
   "cell_type": "code",
   "execution_count": 44,
   "metadata": {},
   "outputs": [
    {
     "data": {
      "text/plain": [
       "['data/2018', '04', '20', 'report.csv']"
      ]
     },
     "execution_count": 44,
     "metadata": {},
     "output_type": "execute_result"
    }
   ],
   "source": [
    "#remind what split_x is\n",
    "split_x"
   ]
  },
  {
   "cell_type": "code",
   "execution_count": 50,
   "metadata": {
    "collapsed": true
   },
   "outputs": [],
   "source": [
    "a, b = split_x[0].split('/')"
   ]
  },
  {
   "cell_type": "code",
   "execution_count": 53,
   "metadata": {
    "collapsed": true
   },
   "outputs": [],
   "source": [
    "split_x.append(a)\n",
    "split_x.append(b)"
   ]
  },
  {
   "cell_type": "code",
   "execution_count": 56,
   "metadata": {},
   "outputs": [
    {
     "data": {
      "text/plain": [
       "['data/2018', '04', '20', 'report.csv', 'data', '2018']"
      ]
     },
     "execution_count": 56,
     "metadata": {},
     "output_type": "execute_result"
    }
   ],
   "source": [
    "split_x"
   ]
  },
  {
   "cell_type": "code",
   "execution_count": 55,
   "metadata": {
    "collapsed": true
   },
   "outputs": [],
   "source": [
    "del split_x[4]"
   ]
  },
  {
   "cell_type": "markdown",
   "metadata": {},
   "source": [
    "### What about if it was a string? "
   ]
  },
  {
   "cell_type": "code",
   "execution_count": 13,
   "metadata": {
    "collapsed": true
   },
   "outputs": [],
   "source": [
    "x_string = 'data/2018-04-20-report.csv'"
   ]
  },
  {
   "cell_type": "code",
   "execution_count": 17,
   "metadata": {},
   "outputs": [
    {
     "data": {
      "text/plain": [
       "'2018-04-20'"
      ]
     },
     "execution_count": 17,
     "metadata": {},
     "output_type": "execute_result"
    }
   ],
   "source": [
    "x_string[5:15]"
   ]
  },
  {
   "cell_type": "markdown",
   "metadata": {},
   "source": [
    "### Back to our original problem - merging CSVs\n",
    "\n",
    "* We need to work with CSVs in python, so let's load Pandas - the go to for dataframes in Python\n",
    "* We'll next define an empty DataFrame by running `pd.DataFrame()`"
   ]
  },
  {
   "cell_type": "code",
   "execution_count": 57,
   "metadata": {
    "collapsed": true
   },
   "outputs": [],
   "source": [
    "import pandas as pd"
   ]
  },
  {
   "cell_type": "code",
   "execution_count": 58,
   "metadata": {
    "collapsed": true
   },
   "outputs": [],
   "source": [
    "combined_data = pd.DataFrame()"
   ]
  },
  {
   "cell_type": "code",
   "execution_count": 24,
   "metadata": {},
   "outputs": [
    {
     "name": "stdout",
     "output_type": "stream",
     "text": [
      "Empty DataFrame\n",
      "Columns: []\n",
      "Index: []\n"
     ]
    }
   ],
   "source": [
    "print(combined_data)"
   ]
  },
  {
   "cell_type": "markdown",
   "metadata": {},
   "source": [
    "* Now who knows what we need to do next? \n",
    "* How do we go thru all those files?"
   ]
  },
  {
   "cell_type": "code",
   "execution_count": 26,
   "metadata": {
    "collapsed": true
   },
   "outputs": [],
   "source": [
    "for file in glob.glob('data/*.csv'):\n",
    "    df = pd.read_csv(file)\n",
    "    combined_data = combined_data.append(df,ignore_index=True)"
   ]
  },
  {
   "cell_type": "code",
   "execution_count": 27,
   "metadata": {},
   "outputs": [
    {
     "data": {
      "text/html": [
       "<div>\n",
       "<style>\n",
       "    .dataframe thead tr:only-child th {\n",
       "        text-align: right;\n",
       "    }\n",
       "\n",
       "    .dataframe thead th {\n",
       "        text-align: left;\n",
       "    }\n",
       "\n",
       "    .dataframe tbody tr th {\n",
       "        vertical-align: top;\n",
       "    }\n",
       "</style>\n",
       "<table border=\"1\" class=\"dataframe\">\n",
       "  <thead>\n",
       "    <tr style=\"text-align: right;\">\n",
       "      <th></th>\n",
       "      <th>first_name</th>\n",
       "      <th>last_name</th>\n",
       "      <th>latitude</th>\n",
       "      <th>longitude</th>\n",
       "      <th>company</th>\n",
       "      <th>pyfloat</th>\n",
       "      <th>random_digit</th>\n",
       "    </tr>\n",
       "  </thead>\n",
       "  <tbody>\n",
       "    <tr>\n",
       "      <th>0</th>\n",
       "      <td>Crystal</td>\n",
       "      <td>Bell</td>\n",
       "      <td>-59.155667</td>\n",
       "      <td>-152.090607</td>\n",
       "      <td>Arias-Hooper</td>\n",
       "      <td>8.821808e+00</td>\n",
       "      <td>6</td>\n",
       "    </tr>\n",
       "    <tr>\n",
       "      <th>1</th>\n",
       "      <td>Joanna</td>\n",
       "      <td>Cox</td>\n",
       "      <td>24.912468</td>\n",
       "      <td>-3.162301</td>\n",
       "      <td>Williams, Buchanan and Bell</td>\n",
       "      <td>1.278692e+04</td>\n",
       "      <td>1</td>\n",
       "    </tr>\n",
       "    <tr>\n",
       "      <th>2</th>\n",
       "      <td>Stephanie</td>\n",
       "      <td>Hoffman</td>\n",
       "      <td>87.269461</td>\n",
       "      <td>79.641391</td>\n",
       "      <td>Carter-Herrera</td>\n",
       "      <td>5.818807e+11</td>\n",
       "      <td>7</td>\n",
       "    </tr>\n",
       "    <tr>\n",
       "      <th>3</th>\n",
       "      <td>Mathew</td>\n",
       "      <td>Bartlett</td>\n",
       "      <td>19.611374</td>\n",
       "      <td>-160.784623</td>\n",
       "      <td>Salazar, Schmidt and Booker</td>\n",
       "      <td>6.784741e+00</td>\n",
       "      <td>2</td>\n",
       "    </tr>\n",
       "    <tr>\n",
       "      <th>4</th>\n",
       "      <td>Sabrina</td>\n",
       "      <td>Martinez</td>\n",
       "      <td>57.236799</td>\n",
       "      <td>122.572090</td>\n",
       "      <td>Medina Group</td>\n",
       "      <td>-8.161000e+03</td>\n",
       "      <td>7</td>\n",
       "    </tr>\n",
       "    <tr>\n",
       "      <th>5</th>\n",
       "      <td>Steven</td>\n",
       "      <td>Carpenter</td>\n",
       "      <td>34.542835</td>\n",
       "      <td>-67.101218</td>\n",
       "      <td>Hill PLC</td>\n",
       "      <td>1.728653e+13</td>\n",
       "      <td>7</td>\n",
       "    </tr>\n",
       "    <tr>\n",
       "      <th>6</th>\n",
       "      <td>Justin</td>\n",
       "      <td>Newton</td>\n",
       "      <td>-32.946243</td>\n",
       "      <td>42.141609</td>\n",
       "      <td>Thompson-Miller</td>\n",
       "      <td>8.102886e+08</td>\n",
       "      <td>2</td>\n",
       "    </tr>\n",
       "    <tr>\n",
       "      <th>7</th>\n",
       "      <td>James</td>\n",
       "      <td>Sanchez</td>\n",
       "      <td>-56.104262</td>\n",
       "      <td>133.789190</td>\n",
       "      <td>Yu, Hull and Valencia</td>\n",
       "      <td>5.900000e+00</td>\n",
       "      <td>0</td>\n",
       "    </tr>\n",
       "    <tr>\n",
       "      <th>8</th>\n",
       "      <td>Breanna</td>\n",
       "      <td>Johnson</td>\n",
       "      <td>35.216656</td>\n",
       "      <td>15.739880</td>\n",
       "      <td>Martin, Jones and Wiggins</td>\n",
       "      <td>-9.900293e+05</td>\n",
       "      <td>6</td>\n",
       "    </tr>\n",
       "    <tr>\n",
       "      <th>9</th>\n",
       "      <td>Aaron</td>\n",
       "      <td>Flores</td>\n",
       "      <td>24.716587</td>\n",
       "      <td>-175.554866</td>\n",
       "      <td>Hudson-Rivera</td>\n",
       "      <td>8.965710e+02</td>\n",
       "      <td>4</td>\n",
       "    </tr>\n",
       "    <tr>\n",
       "      <th>10</th>\n",
       "      <td>Annette</td>\n",
       "      <td>Richardson</td>\n",
       "      <td>55.828806</td>\n",
       "      <td>45.166747</td>\n",
       "      <td>Preston, Sanchez and Jenkins</td>\n",
       "      <td>-9.788750e+05</td>\n",
       "      <td>4</td>\n",
       "    </tr>\n",
       "    <tr>\n",
       "      <th>11</th>\n",
       "      <td>Adam</td>\n",
       "      <td>Graves</td>\n",
       "      <td>-28.064150</td>\n",
       "      <td>160.873835</td>\n",
       "      <td>Mejia-Serrano</td>\n",
       "      <td>-3.912530e+14</td>\n",
       "      <td>7</td>\n",
       "    </tr>\n",
       "    <tr>\n",
       "      <th>12</th>\n",
       "      <td>Sandra</td>\n",
       "      <td>Fischer</td>\n",
       "      <td>-75.109587</td>\n",
       "      <td>130.559171</td>\n",
       "      <td>Reed LLC</td>\n",
       "      <td>-6.224536e+08</td>\n",
       "      <td>3</td>\n",
       "    </tr>\n",
       "    <tr>\n",
       "      <th>13</th>\n",
       "      <td>Kelsey</td>\n",
       "      <td>Cruz</td>\n",
       "      <td>67.300358</td>\n",
       "      <td>43.935784</td>\n",
       "      <td>Richard-Rodriguez</td>\n",
       "      <td>-2.482688e+05</td>\n",
       "      <td>4</td>\n",
       "    </tr>\n",
       "    <tr>\n",
       "      <th>14</th>\n",
       "      <td>Angelica</td>\n",
       "      <td>Jimenez</td>\n",
       "      <td>37.791662</td>\n",
       "      <td>81.316846</td>\n",
       "      <td>Murphy LLC</td>\n",
       "      <td>-5.045043e+07</td>\n",
       "      <td>7</td>\n",
       "    </tr>\n",
       "    <tr>\n",
       "      <th>15</th>\n",
       "      <td>Colleen</td>\n",
       "      <td>Henry</td>\n",
       "      <td>-42.226956</td>\n",
       "      <td>108.291746</td>\n",
       "      <td>Wilson-Baker</td>\n",
       "      <td>3.883051e+07</td>\n",
       "      <td>5</td>\n",
       "    </tr>\n",
       "    <tr>\n",
       "      <th>16</th>\n",
       "      <td>Caroline</td>\n",
       "      <td>Wallace</td>\n",
       "      <td>46.862266</td>\n",
       "      <td>-136.008639</td>\n",
       "      <td>Bonilla, Houston and Ramos</td>\n",
       "      <td>5.001921e+11</td>\n",
       "      <td>7</td>\n",
       "    </tr>\n",
       "    <tr>\n",
       "      <th>17</th>\n",
       "      <td>Jason</td>\n",
       "      <td>Kelley</td>\n",
       "      <td>-67.165634</td>\n",
       "      <td>-83.419536</td>\n",
       "      <td>Lewis-Mccarty</td>\n",
       "      <td>6.660000e+02</td>\n",
       "      <td>9</td>\n",
       "    </tr>\n",
       "    <tr>\n",
       "      <th>18</th>\n",
       "      <td>John</td>\n",
       "      <td>Walsh</td>\n",
       "      <td>6.388940</td>\n",
       "      <td>-85.029442</td>\n",
       "      <td>Smith, Frank and Cardenas</td>\n",
       "      <td>-7.210410e+03</td>\n",
       "      <td>5</td>\n",
       "    </tr>\n",
       "    <tr>\n",
       "      <th>19</th>\n",
       "      <td>John</td>\n",
       "      <td>Serrano</td>\n",
       "      <td>-88.399851</td>\n",
       "      <td>26.379661</td>\n",
       "      <td>Ross, Ortiz and Castro</td>\n",
       "      <td>-7.340420e+14</td>\n",
       "      <td>0</td>\n",
       "    </tr>\n",
       "    <tr>\n",
       "      <th>20</th>\n",
       "      <td>Cassandra</td>\n",
       "      <td>Mcpherson</td>\n",
       "      <td>-70.659543</td>\n",
       "      <td>139.457561</td>\n",
       "      <td>Smith-Joseph</td>\n",
       "      <td>6.796781e+07</td>\n",
       "      <td>5</td>\n",
       "    </tr>\n",
       "    <tr>\n",
       "      <th>21</th>\n",
       "      <td>Michael</td>\n",
       "      <td>Fernandez</td>\n",
       "      <td>83.463790</td>\n",
       "      <td>177.073218</td>\n",
       "      <td>Rodriguez, Malone and Jensen</td>\n",
       "      <td>-4.989948e+11</td>\n",
       "      <td>9</td>\n",
       "    </tr>\n",
       "    <tr>\n",
       "      <th>22</th>\n",
       "      <td>Joshua</td>\n",
       "      <td>Deleon</td>\n",
       "      <td>1.181131</td>\n",
       "      <td>128.739287</td>\n",
       "      <td>Hayes PLC</td>\n",
       "      <td>-8.779361e+03</td>\n",
       "      <td>3</td>\n",
       "    </tr>\n",
       "    <tr>\n",
       "      <th>23</th>\n",
       "      <td>Jessica</td>\n",
       "      <td>Jones</td>\n",
       "      <td>49.941903</td>\n",
       "      <td>126.511142</td>\n",
       "      <td>Estes Inc</td>\n",
       "      <td>5.760071e+09</td>\n",
       "      <td>5</td>\n",
       "    </tr>\n",
       "    <tr>\n",
       "      <th>24</th>\n",
       "      <td>Colleen</td>\n",
       "      <td>Stout</td>\n",
       "      <td>48.547302</td>\n",
       "      <td>74.980546</td>\n",
       "      <td>Campbell LLC</td>\n",
       "      <td>3.445145e+03</td>\n",
       "      <td>1</td>\n",
       "    </tr>\n",
       "    <tr>\n",
       "      <th>25</th>\n",
       "      <td>Jermaine</td>\n",
       "      <td>Madden</td>\n",
       "      <td>39.964621</td>\n",
       "      <td>7.611573</td>\n",
       "      <td>Brown-Simmons</td>\n",
       "      <td>-5.610677e+04</td>\n",
       "      <td>7</td>\n",
       "    </tr>\n",
       "    <tr>\n",
       "      <th>26</th>\n",
       "      <td>Dana</td>\n",
       "      <td>Armstrong</td>\n",
       "      <td>73.380370</td>\n",
       "      <td>97.119628</td>\n",
       "      <td>Michael-Trujillo</td>\n",
       "      <td>8.943128e+10</td>\n",
       "      <td>3</td>\n",
       "    </tr>\n",
       "    <tr>\n",
       "      <th>27</th>\n",
       "      <td>Lisa</td>\n",
       "      <td>Harris</td>\n",
       "      <td>7.570587</td>\n",
       "      <td>-175.383317</td>\n",
       "      <td>Hall, Mcguire and Diaz</td>\n",
       "      <td>7.252418e+13</td>\n",
       "      <td>4</td>\n",
       "    </tr>\n",
       "    <tr>\n",
       "      <th>28</th>\n",
       "      <td>Roger</td>\n",
       "      <td>Buchanan</td>\n",
       "      <td>46.197710</td>\n",
       "      <td>-91.970638</td>\n",
       "      <td>Brown-Henry</td>\n",
       "      <td>1.099736e+10</td>\n",
       "      <td>1</td>\n",
       "    </tr>\n",
       "    <tr>\n",
       "      <th>29</th>\n",
       "      <td>Megan</td>\n",
       "      <td>David</td>\n",
       "      <td>29.642066</td>\n",
       "      <td>-65.774561</td>\n",
       "      <td>Randall-Luna</td>\n",
       "      <td>5.945969e+02</td>\n",
       "      <td>9</td>\n",
       "    </tr>\n",
       "    <tr>\n",
       "      <th>...</th>\n",
       "      <td>...</td>\n",
       "      <td>...</td>\n",
       "      <td>...</td>\n",
       "      <td>...</td>\n",
       "      <td>...</td>\n",
       "      <td>...</td>\n",
       "      <td>...</td>\n",
       "    </tr>\n",
       "    <tr>\n",
       "      <th>370</th>\n",
       "      <td>Bradley</td>\n",
       "      <td>Johnson</td>\n",
       "      <td>79.832259</td>\n",
       "      <td>33.001379</td>\n",
       "      <td>King, Hudson and Nguyen</td>\n",
       "      <td>3.598247e+13</td>\n",
       "      <td>5</td>\n",
       "    </tr>\n",
       "    <tr>\n",
       "      <th>371</th>\n",
       "      <td>Abigail</td>\n",
       "      <td>Ortiz</td>\n",
       "      <td>-65.214816</td>\n",
       "      <td>34.726780</td>\n",
       "      <td>Rich-Thomas</td>\n",
       "      <td>7.848791e+06</td>\n",
       "      <td>9</td>\n",
       "    </tr>\n",
       "    <tr>\n",
       "      <th>372</th>\n",
       "      <td>Matthew</td>\n",
       "      <td>Lowe</td>\n",
       "      <td>-80.145533</td>\n",
       "      <td>175.421458</td>\n",
       "      <td>Wallace PLC</td>\n",
       "      <td>2.886981e+08</td>\n",
       "      <td>8</td>\n",
       "    </tr>\n",
       "    <tr>\n",
       "      <th>373</th>\n",
       "      <td>Rebecca</td>\n",
       "      <td>Barber</td>\n",
       "      <td>-12.971910</td>\n",
       "      <td>-29.204963</td>\n",
       "      <td>Washington, Holden and Holder</td>\n",
       "      <td>-8.848500e+11</td>\n",
       "      <td>2</td>\n",
       "    </tr>\n",
       "    <tr>\n",
       "      <th>374</th>\n",
       "      <td>Kimberly</td>\n",
       "      <td>Cantrell</td>\n",
       "      <td>64.289222</td>\n",
       "      <td>84.362428</td>\n",
       "      <td>Franklin-Lee</td>\n",
       "      <td>-2.308371e+03</td>\n",
       "      <td>4</td>\n",
       "    </tr>\n",
       "    <tr>\n",
       "      <th>375</th>\n",
       "      <td>Karen</td>\n",
       "      <td>Wang</td>\n",
       "      <td>-42.794201</td>\n",
       "      <td>83.121315</td>\n",
       "      <td>Ramsey-Anderson</td>\n",
       "      <td>7.722711e+08</td>\n",
       "      <td>5</td>\n",
       "    </tr>\n",
       "    <tr>\n",
       "      <th>376</th>\n",
       "      <td>Chelsea</td>\n",
       "      <td>Byrd</td>\n",
       "      <td>32.011804</td>\n",
       "      <td>-54.713767</td>\n",
       "      <td>Mills PLC</td>\n",
       "      <td>8.616692e+08</td>\n",
       "      <td>4</td>\n",
       "    </tr>\n",
       "    <tr>\n",
       "      <th>377</th>\n",
       "      <td>Debbie</td>\n",
       "      <td>Wilson</td>\n",
       "      <td>-60.646269</td>\n",
       "      <td>-75.823624</td>\n",
       "      <td>Sandoval Ltd</td>\n",
       "      <td>4.282621e+07</td>\n",
       "      <td>1</td>\n",
       "    </tr>\n",
       "    <tr>\n",
       "      <th>378</th>\n",
       "      <td>Mark</td>\n",
       "      <td>Hull</td>\n",
       "      <td>-39.493747</td>\n",
       "      <td>63.065081</td>\n",
       "      <td>Bennett-Clayton</td>\n",
       "      <td>-7.159076e+07</td>\n",
       "      <td>2</td>\n",
       "    </tr>\n",
       "    <tr>\n",
       "      <th>379</th>\n",
       "      <td>Paul</td>\n",
       "      <td>Fitzgerald</td>\n",
       "      <td>71.634324</td>\n",
       "      <td>115.966505</td>\n",
       "      <td>Serrano, Ray and Perez</td>\n",
       "      <td>1.678978e+14</td>\n",
       "      <td>7</td>\n",
       "    </tr>\n",
       "    <tr>\n",
       "      <th>380</th>\n",
       "      <td>Alan</td>\n",
       "      <td>Johnson</td>\n",
       "      <td>71.588471</td>\n",
       "      <td>-126.760280</td>\n",
       "      <td>Baker-Ramirez</td>\n",
       "      <td>-2.519652e+00</td>\n",
       "      <td>1</td>\n",
       "    </tr>\n",
       "    <tr>\n",
       "      <th>381</th>\n",
       "      <td>Mike</td>\n",
       "      <td>Lopez</td>\n",
       "      <td>51.041999</td>\n",
       "      <td>-76.880209</td>\n",
       "      <td>Brock Ltd</td>\n",
       "      <td>9.882025e+13</td>\n",
       "      <td>3</td>\n",
       "    </tr>\n",
       "    <tr>\n",
       "      <th>382</th>\n",
       "      <td>Christopher</td>\n",
       "      <td>Woodward</td>\n",
       "      <td>-39.065892</td>\n",
       "      <td>-122.334318</td>\n",
       "      <td>Nelson, Greer and Shields</td>\n",
       "      <td>6.172513e+11</td>\n",
       "      <td>9</td>\n",
       "    </tr>\n",
       "    <tr>\n",
       "      <th>383</th>\n",
       "      <td>Heather</td>\n",
       "      <td>Johnson</td>\n",
       "      <td>80.141844</td>\n",
       "      <td>93.426176</td>\n",
       "      <td>Jimenez-Gonzales</td>\n",
       "      <td>-4.405009e+12</td>\n",
       "      <td>0</td>\n",
       "    </tr>\n",
       "    <tr>\n",
       "      <th>384</th>\n",
       "      <td>Joshua</td>\n",
       "      <td>Barnett</td>\n",
       "      <td>0.963618</td>\n",
       "      <td>160.581126</td>\n",
       "      <td>Ewing-Quinn</td>\n",
       "      <td>-4.324836e+09</td>\n",
       "      <td>7</td>\n",
       "    </tr>\n",
       "    <tr>\n",
       "      <th>385</th>\n",
       "      <td>William</td>\n",
       "      <td>Burke</td>\n",
       "      <td>-18.327860</td>\n",
       "      <td>52.056516</td>\n",
       "      <td>Mcbride-Cline</td>\n",
       "      <td>4.026800e+09</td>\n",
       "      <td>7</td>\n",
       "    </tr>\n",
       "    <tr>\n",
       "      <th>386</th>\n",
       "      <td>Anne</td>\n",
       "      <td>Gibson</td>\n",
       "      <td>-76.624302</td>\n",
       "      <td>74.603104</td>\n",
       "      <td>Diaz Inc</td>\n",
       "      <td>-6.880645e+12</td>\n",
       "      <td>4</td>\n",
       "    </tr>\n",
       "    <tr>\n",
       "      <th>387</th>\n",
       "      <td>Linda</td>\n",
       "      <td>Smith</td>\n",
       "      <td>57.842307</td>\n",
       "      <td>-50.392696</td>\n",
       "      <td>Smith and Sons</td>\n",
       "      <td>-5.415130e+06</td>\n",
       "      <td>3</td>\n",
       "    </tr>\n",
       "    <tr>\n",
       "      <th>388</th>\n",
       "      <td>George</td>\n",
       "      <td>Ford</td>\n",
       "      <td>-22.770970</td>\n",
       "      <td>-99.235147</td>\n",
       "      <td>Molina Group</td>\n",
       "      <td>3.306988e+08</td>\n",
       "      <td>1</td>\n",
       "    </tr>\n",
       "    <tr>\n",
       "      <th>389</th>\n",
       "      <td>Julia</td>\n",
       "      <td>Todd</td>\n",
       "      <td>36.590752</td>\n",
       "      <td>74.156060</td>\n",
       "      <td>Garcia-Brown</td>\n",
       "      <td>5.963421e+09</td>\n",
       "      <td>5</td>\n",
       "    </tr>\n",
       "    <tr>\n",
       "      <th>390</th>\n",
       "      <td>Carol</td>\n",
       "      <td>Haynes</td>\n",
       "      <td>-83.592624</td>\n",
       "      <td>-29.533655</td>\n",
       "      <td>Mendoza PLC</td>\n",
       "      <td>-3.064243e+08</td>\n",
       "      <td>0</td>\n",
       "    </tr>\n",
       "    <tr>\n",
       "      <th>391</th>\n",
       "      <td>Aaron</td>\n",
       "      <td>Diaz</td>\n",
       "      <td>-25.924463</td>\n",
       "      <td>-120.157389</td>\n",
       "      <td>Rollins, Duke and Nelson</td>\n",
       "      <td>-6.193904e+05</td>\n",
       "      <td>5</td>\n",
       "    </tr>\n",
       "    <tr>\n",
       "      <th>392</th>\n",
       "      <td>Seth</td>\n",
       "      <td>Wilson</td>\n",
       "      <td>29.476087</td>\n",
       "      <td>130.648955</td>\n",
       "      <td>Wilson Group</td>\n",
       "      <td>6.727011e+07</td>\n",
       "      <td>2</td>\n",
       "    </tr>\n",
       "    <tr>\n",
       "      <th>393</th>\n",
       "      <td>Dawn</td>\n",
       "      <td>Thompson</td>\n",
       "      <td>83.992334</td>\n",
       "      <td>-142.519720</td>\n",
       "      <td>Yu-Lopez</td>\n",
       "      <td>8.070294e+08</td>\n",
       "      <td>7</td>\n",
       "    </tr>\n",
       "    <tr>\n",
       "      <th>394</th>\n",
       "      <td>Jonathan</td>\n",
       "      <td>Johnson</td>\n",
       "      <td>49.678157</td>\n",
       "      <td>-76.623520</td>\n",
       "      <td>Medina PLC</td>\n",
       "      <td>-8.789396e+11</td>\n",
       "      <td>3</td>\n",
       "    </tr>\n",
       "    <tr>\n",
       "      <th>395</th>\n",
       "      <td>Jessica</td>\n",
       "      <td>Rivera</td>\n",
       "      <td>-44.357343</td>\n",
       "      <td>69.169010</td>\n",
       "      <td>Salazar, Rosario and Butler</td>\n",
       "      <td>-3.400000e+01</td>\n",
       "      <td>5</td>\n",
       "    </tr>\n",
       "    <tr>\n",
       "      <th>396</th>\n",
       "      <td>Mario</td>\n",
       "      <td>Kim</td>\n",
       "      <td>51.775842</td>\n",
       "      <td>-6.751491</td>\n",
       "      <td>Palmer-Jackson</td>\n",
       "      <td>-8.659855e+04</td>\n",
       "      <td>6</td>\n",
       "    </tr>\n",
       "    <tr>\n",
       "      <th>397</th>\n",
       "      <td>Erin</td>\n",
       "      <td>Hebert</td>\n",
       "      <td>30.107043</td>\n",
       "      <td>123.924077</td>\n",
       "      <td>Thomas-Guzman</td>\n",
       "      <td>-5.069016e+11</td>\n",
       "      <td>7</td>\n",
       "    </tr>\n",
       "    <tr>\n",
       "      <th>398</th>\n",
       "      <td>Jason</td>\n",
       "      <td>Butler</td>\n",
       "      <td>-78.082985</td>\n",
       "      <td>-26.853201</td>\n",
       "      <td>Bell Ltd</td>\n",
       "      <td>9.369049e+04</td>\n",
       "      <td>9</td>\n",
       "    </tr>\n",
       "    <tr>\n",
       "      <th>399</th>\n",
       "      <td>Matthew</td>\n",
       "      <td>Lane</td>\n",
       "      <td>-83.336197</td>\n",
       "      <td>-100.889130</td>\n",
       "      <td>Bush-Flynn</td>\n",
       "      <td>-8.471554e+01</td>\n",
       "      <td>9</td>\n",
       "    </tr>\n",
       "  </tbody>\n",
       "</table>\n",
       "<p>400 rows × 7 columns</p>\n",
       "</div>"
      ],
      "text/plain": [
       "      first_name   last_name   latitude   longitude  \\\n",
       "0        Crystal        Bell -59.155667 -152.090607   \n",
       "1         Joanna         Cox  24.912468   -3.162301   \n",
       "2      Stephanie     Hoffman  87.269461   79.641391   \n",
       "3         Mathew    Bartlett  19.611374 -160.784623   \n",
       "4        Sabrina    Martinez  57.236799  122.572090   \n",
       "5         Steven   Carpenter  34.542835  -67.101218   \n",
       "6         Justin      Newton -32.946243   42.141609   \n",
       "7          James     Sanchez -56.104262  133.789190   \n",
       "8        Breanna     Johnson  35.216656   15.739880   \n",
       "9          Aaron      Flores  24.716587 -175.554866   \n",
       "10       Annette  Richardson  55.828806   45.166747   \n",
       "11          Adam      Graves -28.064150  160.873835   \n",
       "12        Sandra     Fischer -75.109587  130.559171   \n",
       "13        Kelsey        Cruz  67.300358   43.935784   \n",
       "14      Angelica     Jimenez  37.791662   81.316846   \n",
       "15       Colleen       Henry -42.226956  108.291746   \n",
       "16      Caroline     Wallace  46.862266 -136.008639   \n",
       "17         Jason      Kelley -67.165634  -83.419536   \n",
       "18          John       Walsh   6.388940  -85.029442   \n",
       "19          John     Serrano -88.399851   26.379661   \n",
       "20     Cassandra   Mcpherson -70.659543  139.457561   \n",
       "21       Michael   Fernandez  83.463790  177.073218   \n",
       "22        Joshua      Deleon   1.181131  128.739287   \n",
       "23       Jessica       Jones  49.941903  126.511142   \n",
       "24       Colleen       Stout  48.547302   74.980546   \n",
       "25      Jermaine      Madden  39.964621    7.611573   \n",
       "26          Dana   Armstrong  73.380370   97.119628   \n",
       "27          Lisa      Harris   7.570587 -175.383317   \n",
       "28         Roger    Buchanan  46.197710  -91.970638   \n",
       "29         Megan       David  29.642066  -65.774561   \n",
       "..           ...         ...        ...         ...   \n",
       "370      Bradley     Johnson  79.832259   33.001379   \n",
       "371      Abigail       Ortiz -65.214816   34.726780   \n",
       "372      Matthew        Lowe -80.145533  175.421458   \n",
       "373      Rebecca      Barber -12.971910  -29.204963   \n",
       "374     Kimberly    Cantrell  64.289222   84.362428   \n",
       "375        Karen        Wang -42.794201   83.121315   \n",
       "376      Chelsea        Byrd  32.011804  -54.713767   \n",
       "377       Debbie      Wilson -60.646269  -75.823624   \n",
       "378         Mark        Hull -39.493747   63.065081   \n",
       "379         Paul  Fitzgerald  71.634324  115.966505   \n",
       "380         Alan     Johnson  71.588471 -126.760280   \n",
       "381         Mike       Lopez  51.041999  -76.880209   \n",
       "382  Christopher    Woodward -39.065892 -122.334318   \n",
       "383      Heather     Johnson  80.141844   93.426176   \n",
       "384       Joshua     Barnett   0.963618  160.581126   \n",
       "385      William       Burke -18.327860   52.056516   \n",
       "386         Anne      Gibson -76.624302   74.603104   \n",
       "387        Linda       Smith  57.842307  -50.392696   \n",
       "388       George        Ford -22.770970  -99.235147   \n",
       "389        Julia        Todd  36.590752   74.156060   \n",
       "390        Carol      Haynes -83.592624  -29.533655   \n",
       "391        Aaron        Diaz -25.924463 -120.157389   \n",
       "392         Seth      Wilson  29.476087  130.648955   \n",
       "393         Dawn    Thompson  83.992334 -142.519720   \n",
       "394     Jonathan     Johnson  49.678157  -76.623520   \n",
       "395      Jessica      Rivera -44.357343   69.169010   \n",
       "396        Mario         Kim  51.775842   -6.751491   \n",
       "397         Erin      Hebert  30.107043  123.924077   \n",
       "398        Jason      Butler -78.082985  -26.853201   \n",
       "399      Matthew        Lane -83.336197 -100.889130   \n",
       "\n",
       "                           company       pyfloat  random_digit  \n",
       "0                     Arias-Hooper  8.821808e+00             6  \n",
       "1      Williams, Buchanan and Bell  1.278692e+04             1  \n",
       "2                   Carter-Herrera  5.818807e+11             7  \n",
       "3      Salazar, Schmidt and Booker  6.784741e+00             2  \n",
       "4                     Medina Group -8.161000e+03             7  \n",
       "5                         Hill PLC  1.728653e+13             7  \n",
       "6                  Thompson-Miller  8.102886e+08             2  \n",
       "7            Yu, Hull and Valencia  5.900000e+00             0  \n",
       "8        Martin, Jones and Wiggins -9.900293e+05             6  \n",
       "9                    Hudson-Rivera  8.965710e+02             4  \n",
       "10    Preston, Sanchez and Jenkins -9.788750e+05             4  \n",
       "11                   Mejia-Serrano -3.912530e+14             7  \n",
       "12                        Reed LLC -6.224536e+08             3  \n",
       "13               Richard-Rodriguez -2.482688e+05             4  \n",
       "14                      Murphy LLC -5.045043e+07             7  \n",
       "15                    Wilson-Baker  3.883051e+07             5  \n",
       "16      Bonilla, Houston and Ramos  5.001921e+11             7  \n",
       "17                   Lewis-Mccarty  6.660000e+02             9  \n",
       "18       Smith, Frank and Cardenas -7.210410e+03             5  \n",
       "19          Ross, Ortiz and Castro -7.340420e+14             0  \n",
       "20                    Smith-Joseph  6.796781e+07             5  \n",
       "21    Rodriguez, Malone and Jensen -4.989948e+11             9  \n",
       "22                       Hayes PLC -8.779361e+03             3  \n",
       "23                       Estes Inc  5.760071e+09             5  \n",
       "24                    Campbell LLC  3.445145e+03             1  \n",
       "25                   Brown-Simmons -5.610677e+04             7  \n",
       "26                Michael-Trujillo  8.943128e+10             3  \n",
       "27          Hall, Mcguire and Diaz  7.252418e+13             4  \n",
       "28                     Brown-Henry  1.099736e+10             1  \n",
       "29                    Randall-Luna  5.945969e+02             9  \n",
       "..                             ...           ...           ...  \n",
       "370        King, Hudson and Nguyen  3.598247e+13             5  \n",
       "371                    Rich-Thomas  7.848791e+06             9  \n",
       "372                    Wallace PLC  2.886981e+08             8  \n",
       "373  Washington, Holden and Holder -8.848500e+11             2  \n",
       "374                   Franklin-Lee -2.308371e+03             4  \n",
       "375                Ramsey-Anderson  7.722711e+08             5  \n",
       "376                      Mills PLC  8.616692e+08             4  \n",
       "377                   Sandoval Ltd  4.282621e+07             1  \n",
       "378                Bennett-Clayton -7.159076e+07             2  \n",
       "379         Serrano, Ray and Perez  1.678978e+14             7  \n",
       "380                  Baker-Ramirez -2.519652e+00             1  \n",
       "381                      Brock Ltd  9.882025e+13             3  \n",
       "382      Nelson, Greer and Shields  6.172513e+11             9  \n",
       "383               Jimenez-Gonzales -4.405009e+12             0  \n",
       "384                    Ewing-Quinn -4.324836e+09             7  \n",
       "385                  Mcbride-Cline  4.026800e+09             7  \n",
       "386                       Diaz Inc -6.880645e+12             4  \n",
       "387                 Smith and Sons -5.415130e+06             3  \n",
       "388                   Molina Group  3.306988e+08             1  \n",
       "389                   Garcia-Brown  5.963421e+09             5  \n",
       "390                    Mendoza PLC -3.064243e+08             0  \n",
       "391       Rollins, Duke and Nelson -6.193904e+05             5  \n",
       "392                   Wilson Group  6.727011e+07             2  \n",
       "393                       Yu-Lopez  8.070294e+08             7  \n",
       "394                     Medina PLC -8.789396e+11             3  \n",
       "395    Salazar, Rosario and Butler -3.400000e+01             5  \n",
       "396                 Palmer-Jackson -8.659855e+04             6  \n",
       "397                  Thomas-Guzman -5.069016e+11             7  \n",
       "398                       Bell Ltd  9.369049e+04             9  \n",
       "399                     Bush-Flynn -8.471554e+01             9  \n",
       "\n",
       "[400 rows x 7 columns]"
      ]
     },
     "execution_count": 27,
     "metadata": {},
     "output_type": "execute_result"
    }
   ],
   "source": [
    "combined_data"
   ]
  },
  {
   "cell_type": "code",
   "execution_count": 59,
   "metadata": {},
   "outputs": [
    {
     "ename": "ValueError",
     "evalue": "Cannot describe a DataFrame without columns",
     "output_type": "error",
     "traceback": [
      "\u001b[0;31m---------------------------------------------------------------------------\u001b[0m",
      "\u001b[0;31mValueError\u001b[0m                                Traceback (most recent call last)",
      "\u001b[0;32m<ipython-input-59-5509da5e375c>\u001b[0m in \u001b[0;36m<module>\u001b[0;34m()\u001b[0m\n\u001b[1;32m      1\u001b[0m \u001b[0;31m#describe will give us basic info about the data frame\u001b[0m\u001b[0;34m\u001b[0m\u001b[0;34m\u001b[0m\u001b[0m\n\u001b[0;32m----> 2\u001b[0;31m \u001b[0mcombined_data\u001b[0m\u001b[0;34m.\u001b[0m\u001b[0mdescribe\u001b[0m\u001b[0;34m(\u001b[0m\u001b[0;34m)\u001b[0m\u001b[0;34m\u001b[0m\u001b[0m\n\u001b[0m",
      "\u001b[0;32m/Users/timdennis/anaconda3/lib/python3.5/site-packages/pandas/core/generic.py\u001b[0m in \u001b[0;36mdescribe\u001b[0;34m(self, percentiles, include, exclude)\u001b[0m\n\u001b[1;32m   5734\u001b[0m             \u001b[0;32mraise\u001b[0m \u001b[0mNotImplementedError\u001b[0m\u001b[0;34m(\u001b[0m\u001b[0mmsg\u001b[0m\u001b[0;34m)\u001b[0m\u001b[0;34m\u001b[0m\u001b[0m\n\u001b[1;32m   5735\u001b[0m         \u001b[0;32melif\u001b[0m \u001b[0mself\u001b[0m\u001b[0;34m.\u001b[0m\u001b[0mndim\u001b[0m \u001b[0;34m==\u001b[0m \u001b[0;36m2\u001b[0m \u001b[0;32mand\u001b[0m \u001b[0mself\u001b[0m\u001b[0;34m.\u001b[0m\u001b[0mcolumns\u001b[0m\u001b[0;34m.\u001b[0m\u001b[0msize\u001b[0m \u001b[0;34m==\u001b[0m \u001b[0;36m0\u001b[0m\u001b[0;34m:\u001b[0m\u001b[0;34m\u001b[0m\u001b[0m\n\u001b[0;32m-> 5736\u001b[0;31m             \u001b[0;32mraise\u001b[0m \u001b[0mValueError\u001b[0m\u001b[0;34m(\u001b[0m\u001b[0;34m\"Cannot describe a DataFrame without columns\"\u001b[0m\u001b[0;34m)\u001b[0m\u001b[0;34m\u001b[0m\u001b[0m\n\u001b[0m\u001b[1;32m   5737\u001b[0m \u001b[0;34m\u001b[0m\u001b[0m\n\u001b[1;32m   5738\u001b[0m         \u001b[0;32mif\u001b[0m \u001b[0mpercentiles\u001b[0m \u001b[0;32mis\u001b[0m \u001b[0;32mnot\u001b[0m \u001b[0;32mNone\u001b[0m\u001b[0;34m:\u001b[0m\u001b[0;34m\u001b[0m\u001b[0m\n",
      "\u001b[0;31mValueError\u001b[0m: Cannot describe a DataFrame without columns"
     ]
    }
   ],
   "source": [
    "#describe will give us basic info about the data frame\n",
    "combined_data.describe()"
   ]
  },
  {
   "cell_type": "markdown",
   "metadata": {},
   "source": [
    "* What's missing above? \n",
    "* Yes, we need to grab the year month and day\n",
    "* Let's use what we know about splitting strings "
   ]
  },
  {
   "cell_type": "code",
   "execution_count": 38,
   "metadata": {
    "collapsed": true
   },
   "outputs": [],
   "source": [
    "combined_data = pd.DataFrame()"
   ]
  },
  {
   "cell_type": "code",
   "execution_count": 39,
   "metadata": {
    "collapsed": true
   },
   "outputs": [],
   "source": [
    "for file in glob.glob('data/*.csv'):\n",
    "    #split the file\n",
    "    file_parts = file.split('-')\n",
    "    #assign the parts to a variable\n",
    "    year = '2018' # we know they are all 2018\n",
    "    month = file_parts[1]\n",
    "    day = file_parts[2]\n",
    "    df = pd.read_csv(file)\n",
    "    df['year'] = year\n",
    "    df['month'] = month\n",
    "    df['day'] = day\n",
    "    combined_data = combined_data.append(df,ignore_index=True)"
   ]
  },
  {
   "cell_type": "code",
   "execution_count": 40,
   "metadata": {},
   "outputs": [
    {
     "data": {
      "text/html": [
       "<div>\n",
       "<style>\n",
       "    .dataframe thead tr:only-child th {\n",
       "        text-align: right;\n",
       "    }\n",
       "\n",
       "    .dataframe thead th {\n",
       "        text-align: left;\n",
       "    }\n",
       "\n",
       "    .dataframe tbody tr th {\n",
       "        vertical-align: top;\n",
       "    }\n",
       "</style>\n",
       "<table border=\"1\" class=\"dataframe\">\n",
       "  <thead>\n",
       "    <tr style=\"text-align: right;\">\n",
       "      <th></th>\n",
       "      <th>first_name</th>\n",
       "      <th>last_name</th>\n",
       "      <th>latitude</th>\n",
       "      <th>longitude</th>\n",
       "      <th>company</th>\n",
       "      <th>pyfloat</th>\n",
       "      <th>random_digit</th>\n",
       "      <th>year</th>\n",
       "      <th>month</th>\n",
       "      <th>day</th>\n",
       "    </tr>\n",
       "  </thead>\n",
       "  <tbody>\n",
       "    <tr>\n",
       "      <th>0</th>\n",
       "      <td>Crystal</td>\n",
       "      <td>Bell</td>\n",
       "      <td>-59.155667</td>\n",
       "      <td>-152.090607</td>\n",
       "      <td>Arias-Hooper</td>\n",
       "      <td>8.821808e+00</td>\n",
       "      <td>6</td>\n",
       "      <td>2018</td>\n",
       "      <td>01</td>\n",
       "      <td>06</td>\n",
       "    </tr>\n",
       "    <tr>\n",
       "      <th>1</th>\n",
       "      <td>Joanna</td>\n",
       "      <td>Cox</td>\n",
       "      <td>24.912468</td>\n",
       "      <td>-3.162301</td>\n",
       "      <td>Williams, Buchanan and Bell</td>\n",
       "      <td>1.278692e+04</td>\n",
       "      <td>1</td>\n",
       "      <td>2018</td>\n",
       "      <td>01</td>\n",
       "      <td>06</td>\n",
       "    </tr>\n",
       "    <tr>\n",
       "      <th>2</th>\n",
       "      <td>Stephanie</td>\n",
       "      <td>Hoffman</td>\n",
       "      <td>87.269461</td>\n",
       "      <td>79.641391</td>\n",
       "      <td>Carter-Herrera</td>\n",
       "      <td>5.818807e+11</td>\n",
       "      <td>7</td>\n",
       "      <td>2018</td>\n",
       "      <td>01</td>\n",
       "      <td>06</td>\n",
       "    </tr>\n",
       "    <tr>\n",
       "      <th>3</th>\n",
       "      <td>Mathew</td>\n",
       "      <td>Bartlett</td>\n",
       "      <td>19.611374</td>\n",
       "      <td>-160.784623</td>\n",
       "      <td>Salazar, Schmidt and Booker</td>\n",
       "      <td>6.784741e+00</td>\n",
       "      <td>2</td>\n",
       "      <td>2018</td>\n",
       "      <td>01</td>\n",
       "      <td>06</td>\n",
       "    </tr>\n",
       "    <tr>\n",
       "      <th>4</th>\n",
       "      <td>Sabrina</td>\n",
       "      <td>Martinez</td>\n",
       "      <td>57.236799</td>\n",
       "      <td>122.572090</td>\n",
       "      <td>Medina Group</td>\n",
       "      <td>-8.161000e+03</td>\n",
       "      <td>7</td>\n",
       "      <td>2018</td>\n",
       "      <td>01</td>\n",
       "      <td>06</td>\n",
       "    </tr>\n",
       "    <tr>\n",
       "      <th>5</th>\n",
       "      <td>Steven</td>\n",
       "      <td>Carpenter</td>\n",
       "      <td>34.542835</td>\n",
       "      <td>-67.101218</td>\n",
       "      <td>Hill PLC</td>\n",
       "      <td>1.728653e+13</td>\n",
       "      <td>7</td>\n",
       "      <td>2018</td>\n",
       "      <td>01</td>\n",
       "      <td>06</td>\n",
       "    </tr>\n",
       "    <tr>\n",
       "      <th>6</th>\n",
       "      <td>Justin</td>\n",
       "      <td>Newton</td>\n",
       "      <td>-32.946243</td>\n",
       "      <td>42.141609</td>\n",
       "      <td>Thompson-Miller</td>\n",
       "      <td>8.102886e+08</td>\n",
       "      <td>2</td>\n",
       "      <td>2018</td>\n",
       "      <td>01</td>\n",
       "      <td>06</td>\n",
       "    </tr>\n",
       "    <tr>\n",
       "      <th>7</th>\n",
       "      <td>James</td>\n",
       "      <td>Sanchez</td>\n",
       "      <td>-56.104262</td>\n",
       "      <td>133.789190</td>\n",
       "      <td>Yu, Hull and Valencia</td>\n",
       "      <td>5.900000e+00</td>\n",
       "      <td>0</td>\n",
       "      <td>2018</td>\n",
       "      <td>01</td>\n",
       "      <td>06</td>\n",
       "    </tr>\n",
       "    <tr>\n",
       "      <th>8</th>\n",
       "      <td>Breanna</td>\n",
       "      <td>Johnson</td>\n",
       "      <td>35.216656</td>\n",
       "      <td>15.739880</td>\n",
       "      <td>Martin, Jones and Wiggins</td>\n",
       "      <td>-9.900293e+05</td>\n",
       "      <td>6</td>\n",
       "      <td>2018</td>\n",
       "      <td>01</td>\n",
       "      <td>06</td>\n",
       "    </tr>\n",
       "    <tr>\n",
       "      <th>9</th>\n",
       "      <td>Aaron</td>\n",
       "      <td>Flores</td>\n",
       "      <td>24.716587</td>\n",
       "      <td>-175.554866</td>\n",
       "      <td>Hudson-Rivera</td>\n",
       "      <td>8.965710e+02</td>\n",
       "      <td>4</td>\n",
       "      <td>2018</td>\n",
       "      <td>01</td>\n",
       "      <td>06</td>\n",
       "    </tr>\n",
       "    <tr>\n",
       "      <th>10</th>\n",
       "      <td>Annette</td>\n",
       "      <td>Richardson</td>\n",
       "      <td>55.828806</td>\n",
       "      <td>45.166747</td>\n",
       "      <td>Preston, Sanchez and Jenkins</td>\n",
       "      <td>-9.788750e+05</td>\n",
       "      <td>4</td>\n",
       "      <td>2018</td>\n",
       "      <td>01</td>\n",
       "      <td>06</td>\n",
       "    </tr>\n",
       "    <tr>\n",
       "      <th>11</th>\n",
       "      <td>Adam</td>\n",
       "      <td>Graves</td>\n",
       "      <td>-28.064150</td>\n",
       "      <td>160.873835</td>\n",
       "      <td>Mejia-Serrano</td>\n",
       "      <td>-3.912530e+14</td>\n",
       "      <td>7</td>\n",
       "      <td>2018</td>\n",
       "      <td>01</td>\n",
       "      <td>06</td>\n",
       "    </tr>\n",
       "    <tr>\n",
       "      <th>12</th>\n",
       "      <td>Sandra</td>\n",
       "      <td>Fischer</td>\n",
       "      <td>-75.109587</td>\n",
       "      <td>130.559171</td>\n",
       "      <td>Reed LLC</td>\n",
       "      <td>-6.224536e+08</td>\n",
       "      <td>3</td>\n",
       "      <td>2018</td>\n",
       "      <td>01</td>\n",
       "      <td>06</td>\n",
       "    </tr>\n",
       "    <tr>\n",
       "      <th>13</th>\n",
       "      <td>Kelsey</td>\n",
       "      <td>Cruz</td>\n",
       "      <td>67.300358</td>\n",
       "      <td>43.935784</td>\n",
       "      <td>Richard-Rodriguez</td>\n",
       "      <td>-2.482688e+05</td>\n",
       "      <td>4</td>\n",
       "      <td>2018</td>\n",
       "      <td>01</td>\n",
       "      <td>06</td>\n",
       "    </tr>\n",
       "    <tr>\n",
       "      <th>14</th>\n",
       "      <td>Angelica</td>\n",
       "      <td>Jimenez</td>\n",
       "      <td>37.791662</td>\n",
       "      <td>81.316846</td>\n",
       "      <td>Murphy LLC</td>\n",
       "      <td>-5.045043e+07</td>\n",
       "      <td>7</td>\n",
       "      <td>2018</td>\n",
       "      <td>01</td>\n",
       "      <td>06</td>\n",
       "    </tr>\n",
       "    <tr>\n",
       "      <th>15</th>\n",
       "      <td>Colleen</td>\n",
       "      <td>Henry</td>\n",
       "      <td>-42.226956</td>\n",
       "      <td>108.291746</td>\n",
       "      <td>Wilson-Baker</td>\n",
       "      <td>3.883051e+07</td>\n",
       "      <td>5</td>\n",
       "      <td>2018</td>\n",
       "      <td>01</td>\n",
       "      <td>06</td>\n",
       "    </tr>\n",
       "    <tr>\n",
       "      <th>16</th>\n",
       "      <td>Caroline</td>\n",
       "      <td>Wallace</td>\n",
       "      <td>46.862266</td>\n",
       "      <td>-136.008639</td>\n",
       "      <td>Bonilla, Houston and Ramos</td>\n",
       "      <td>5.001921e+11</td>\n",
       "      <td>7</td>\n",
       "      <td>2018</td>\n",
       "      <td>01</td>\n",
       "      <td>06</td>\n",
       "    </tr>\n",
       "    <tr>\n",
       "      <th>17</th>\n",
       "      <td>Jason</td>\n",
       "      <td>Kelley</td>\n",
       "      <td>-67.165634</td>\n",
       "      <td>-83.419536</td>\n",
       "      <td>Lewis-Mccarty</td>\n",
       "      <td>6.660000e+02</td>\n",
       "      <td>9</td>\n",
       "      <td>2018</td>\n",
       "      <td>01</td>\n",
       "      <td>06</td>\n",
       "    </tr>\n",
       "    <tr>\n",
       "      <th>18</th>\n",
       "      <td>John</td>\n",
       "      <td>Walsh</td>\n",
       "      <td>6.388940</td>\n",
       "      <td>-85.029442</td>\n",
       "      <td>Smith, Frank and Cardenas</td>\n",
       "      <td>-7.210410e+03</td>\n",
       "      <td>5</td>\n",
       "      <td>2018</td>\n",
       "      <td>01</td>\n",
       "      <td>06</td>\n",
       "    </tr>\n",
       "    <tr>\n",
       "      <th>19</th>\n",
       "      <td>John</td>\n",
       "      <td>Serrano</td>\n",
       "      <td>-88.399851</td>\n",
       "      <td>26.379661</td>\n",
       "      <td>Ross, Ortiz and Castro</td>\n",
       "      <td>-7.340420e+14</td>\n",
       "      <td>0</td>\n",
       "      <td>2018</td>\n",
       "      <td>01</td>\n",
       "      <td>06</td>\n",
       "    </tr>\n",
       "    <tr>\n",
       "      <th>20</th>\n",
       "      <td>Cassandra</td>\n",
       "      <td>Mcpherson</td>\n",
       "      <td>-70.659543</td>\n",
       "      <td>139.457561</td>\n",
       "      <td>Smith-Joseph</td>\n",
       "      <td>6.796781e+07</td>\n",
       "      <td>5</td>\n",
       "      <td>2018</td>\n",
       "      <td>01</td>\n",
       "      <td>09</td>\n",
       "    </tr>\n",
       "    <tr>\n",
       "      <th>21</th>\n",
       "      <td>Michael</td>\n",
       "      <td>Fernandez</td>\n",
       "      <td>83.463790</td>\n",
       "      <td>177.073218</td>\n",
       "      <td>Rodriguez, Malone and Jensen</td>\n",
       "      <td>-4.989948e+11</td>\n",
       "      <td>9</td>\n",
       "      <td>2018</td>\n",
       "      <td>01</td>\n",
       "      <td>09</td>\n",
       "    </tr>\n",
       "    <tr>\n",
       "      <th>22</th>\n",
       "      <td>Joshua</td>\n",
       "      <td>Deleon</td>\n",
       "      <td>1.181131</td>\n",
       "      <td>128.739287</td>\n",
       "      <td>Hayes PLC</td>\n",
       "      <td>-8.779361e+03</td>\n",
       "      <td>3</td>\n",
       "      <td>2018</td>\n",
       "      <td>01</td>\n",
       "      <td>09</td>\n",
       "    </tr>\n",
       "    <tr>\n",
       "      <th>23</th>\n",
       "      <td>Jessica</td>\n",
       "      <td>Jones</td>\n",
       "      <td>49.941903</td>\n",
       "      <td>126.511142</td>\n",
       "      <td>Estes Inc</td>\n",
       "      <td>5.760071e+09</td>\n",
       "      <td>5</td>\n",
       "      <td>2018</td>\n",
       "      <td>01</td>\n",
       "      <td>09</td>\n",
       "    </tr>\n",
       "    <tr>\n",
       "      <th>24</th>\n",
       "      <td>Colleen</td>\n",
       "      <td>Stout</td>\n",
       "      <td>48.547302</td>\n",
       "      <td>74.980546</td>\n",
       "      <td>Campbell LLC</td>\n",
       "      <td>3.445145e+03</td>\n",
       "      <td>1</td>\n",
       "      <td>2018</td>\n",
       "      <td>01</td>\n",
       "      <td>09</td>\n",
       "    </tr>\n",
       "    <tr>\n",
       "      <th>25</th>\n",
       "      <td>Jermaine</td>\n",
       "      <td>Madden</td>\n",
       "      <td>39.964621</td>\n",
       "      <td>7.611573</td>\n",
       "      <td>Brown-Simmons</td>\n",
       "      <td>-5.610677e+04</td>\n",
       "      <td>7</td>\n",
       "      <td>2018</td>\n",
       "      <td>01</td>\n",
       "      <td>09</td>\n",
       "    </tr>\n",
       "    <tr>\n",
       "      <th>26</th>\n",
       "      <td>Dana</td>\n",
       "      <td>Armstrong</td>\n",
       "      <td>73.380370</td>\n",
       "      <td>97.119628</td>\n",
       "      <td>Michael-Trujillo</td>\n",
       "      <td>8.943128e+10</td>\n",
       "      <td>3</td>\n",
       "      <td>2018</td>\n",
       "      <td>01</td>\n",
       "      <td>09</td>\n",
       "    </tr>\n",
       "    <tr>\n",
       "      <th>27</th>\n",
       "      <td>Lisa</td>\n",
       "      <td>Harris</td>\n",
       "      <td>7.570587</td>\n",
       "      <td>-175.383317</td>\n",
       "      <td>Hall, Mcguire and Diaz</td>\n",
       "      <td>7.252418e+13</td>\n",
       "      <td>4</td>\n",
       "      <td>2018</td>\n",
       "      <td>01</td>\n",
       "      <td>09</td>\n",
       "    </tr>\n",
       "    <tr>\n",
       "      <th>28</th>\n",
       "      <td>Roger</td>\n",
       "      <td>Buchanan</td>\n",
       "      <td>46.197710</td>\n",
       "      <td>-91.970638</td>\n",
       "      <td>Brown-Henry</td>\n",
       "      <td>1.099736e+10</td>\n",
       "      <td>1</td>\n",
       "      <td>2018</td>\n",
       "      <td>01</td>\n",
       "      <td>09</td>\n",
       "    </tr>\n",
       "    <tr>\n",
       "      <th>29</th>\n",
       "      <td>Megan</td>\n",
       "      <td>David</td>\n",
       "      <td>29.642066</td>\n",
       "      <td>-65.774561</td>\n",
       "      <td>Randall-Luna</td>\n",
       "      <td>5.945969e+02</td>\n",
       "      <td>9</td>\n",
       "      <td>2018</td>\n",
       "      <td>01</td>\n",
       "      <td>09</td>\n",
       "    </tr>\n",
       "    <tr>\n",
       "      <th>...</th>\n",
       "      <td>...</td>\n",
       "      <td>...</td>\n",
       "      <td>...</td>\n",
       "      <td>...</td>\n",
       "      <td>...</td>\n",
       "      <td>...</td>\n",
       "      <td>...</td>\n",
       "      <td>...</td>\n",
       "      <td>...</td>\n",
       "      <td>...</td>\n",
       "    </tr>\n",
       "    <tr>\n",
       "      <th>370</th>\n",
       "      <td>Bradley</td>\n",
       "      <td>Johnson</td>\n",
       "      <td>79.832259</td>\n",
       "      <td>33.001379</td>\n",
       "      <td>King, Hudson and Nguyen</td>\n",
       "      <td>3.598247e+13</td>\n",
       "      <td>5</td>\n",
       "      <td>2018</td>\n",
       "      <td>04</td>\n",
       "      <td>19</td>\n",
       "    </tr>\n",
       "    <tr>\n",
       "      <th>371</th>\n",
       "      <td>Abigail</td>\n",
       "      <td>Ortiz</td>\n",
       "      <td>-65.214816</td>\n",
       "      <td>34.726780</td>\n",
       "      <td>Rich-Thomas</td>\n",
       "      <td>7.848791e+06</td>\n",
       "      <td>9</td>\n",
       "      <td>2018</td>\n",
       "      <td>04</td>\n",
       "      <td>19</td>\n",
       "    </tr>\n",
       "    <tr>\n",
       "      <th>372</th>\n",
       "      <td>Matthew</td>\n",
       "      <td>Lowe</td>\n",
       "      <td>-80.145533</td>\n",
       "      <td>175.421458</td>\n",
       "      <td>Wallace PLC</td>\n",
       "      <td>2.886981e+08</td>\n",
       "      <td>8</td>\n",
       "      <td>2018</td>\n",
       "      <td>04</td>\n",
       "      <td>19</td>\n",
       "    </tr>\n",
       "    <tr>\n",
       "      <th>373</th>\n",
       "      <td>Rebecca</td>\n",
       "      <td>Barber</td>\n",
       "      <td>-12.971910</td>\n",
       "      <td>-29.204963</td>\n",
       "      <td>Washington, Holden and Holder</td>\n",
       "      <td>-8.848500e+11</td>\n",
       "      <td>2</td>\n",
       "      <td>2018</td>\n",
       "      <td>04</td>\n",
       "      <td>19</td>\n",
       "    </tr>\n",
       "    <tr>\n",
       "      <th>374</th>\n",
       "      <td>Kimberly</td>\n",
       "      <td>Cantrell</td>\n",
       "      <td>64.289222</td>\n",
       "      <td>84.362428</td>\n",
       "      <td>Franklin-Lee</td>\n",
       "      <td>-2.308371e+03</td>\n",
       "      <td>4</td>\n",
       "      <td>2018</td>\n",
       "      <td>04</td>\n",
       "      <td>19</td>\n",
       "    </tr>\n",
       "    <tr>\n",
       "      <th>375</th>\n",
       "      <td>Karen</td>\n",
       "      <td>Wang</td>\n",
       "      <td>-42.794201</td>\n",
       "      <td>83.121315</td>\n",
       "      <td>Ramsey-Anderson</td>\n",
       "      <td>7.722711e+08</td>\n",
       "      <td>5</td>\n",
       "      <td>2018</td>\n",
       "      <td>04</td>\n",
       "      <td>19</td>\n",
       "    </tr>\n",
       "    <tr>\n",
       "      <th>376</th>\n",
       "      <td>Chelsea</td>\n",
       "      <td>Byrd</td>\n",
       "      <td>32.011804</td>\n",
       "      <td>-54.713767</td>\n",
       "      <td>Mills PLC</td>\n",
       "      <td>8.616692e+08</td>\n",
       "      <td>4</td>\n",
       "      <td>2018</td>\n",
       "      <td>04</td>\n",
       "      <td>19</td>\n",
       "    </tr>\n",
       "    <tr>\n",
       "      <th>377</th>\n",
       "      <td>Debbie</td>\n",
       "      <td>Wilson</td>\n",
       "      <td>-60.646269</td>\n",
       "      <td>-75.823624</td>\n",
       "      <td>Sandoval Ltd</td>\n",
       "      <td>4.282621e+07</td>\n",
       "      <td>1</td>\n",
       "      <td>2018</td>\n",
       "      <td>04</td>\n",
       "      <td>19</td>\n",
       "    </tr>\n",
       "    <tr>\n",
       "      <th>378</th>\n",
       "      <td>Mark</td>\n",
       "      <td>Hull</td>\n",
       "      <td>-39.493747</td>\n",
       "      <td>63.065081</td>\n",
       "      <td>Bennett-Clayton</td>\n",
       "      <td>-7.159076e+07</td>\n",
       "      <td>2</td>\n",
       "      <td>2018</td>\n",
       "      <td>04</td>\n",
       "      <td>19</td>\n",
       "    </tr>\n",
       "    <tr>\n",
       "      <th>379</th>\n",
       "      <td>Paul</td>\n",
       "      <td>Fitzgerald</td>\n",
       "      <td>71.634324</td>\n",
       "      <td>115.966505</td>\n",
       "      <td>Serrano, Ray and Perez</td>\n",
       "      <td>1.678978e+14</td>\n",
       "      <td>7</td>\n",
       "      <td>2018</td>\n",
       "      <td>04</td>\n",
       "      <td>19</td>\n",
       "    </tr>\n",
       "    <tr>\n",
       "      <th>380</th>\n",
       "      <td>Alan</td>\n",
       "      <td>Johnson</td>\n",
       "      <td>71.588471</td>\n",
       "      <td>-126.760280</td>\n",
       "      <td>Baker-Ramirez</td>\n",
       "      <td>-2.519652e+00</td>\n",
       "      <td>1</td>\n",
       "      <td>2018</td>\n",
       "      <td>04</td>\n",
       "      <td>20</td>\n",
       "    </tr>\n",
       "    <tr>\n",
       "      <th>381</th>\n",
       "      <td>Mike</td>\n",
       "      <td>Lopez</td>\n",
       "      <td>51.041999</td>\n",
       "      <td>-76.880209</td>\n",
       "      <td>Brock Ltd</td>\n",
       "      <td>9.882025e+13</td>\n",
       "      <td>3</td>\n",
       "      <td>2018</td>\n",
       "      <td>04</td>\n",
       "      <td>20</td>\n",
       "    </tr>\n",
       "    <tr>\n",
       "      <th>382</th>\n",
       "      <td>Christopher</td>\n",
       "      <td>Woodward</td>\n",
       "      <td>-39.065892</td>\n",
       "      <td>-122.334318</td>\n",
       "      <td>Nelson, Greer and Shields</td>\n",
       "      <td>6.172513e+11</td>\n",
       "      <td>9</td>\n",
       "      <td>2018</td>\n",
       "      <td>04</td>\n",
       "      <td>20</td>\n",
       "    </tr>\n",
       "    <tr>\n",
       "      <th>383</th>\n",
       "      <td>Heather</td>\n",
       "      <td>Johnson</td>\n",
       "      <td>80.141844</td>\n",
       "      <td>93.426176</td>\n",
       "      <td>Jimenez-Gonzales</td>\n",
       "      <td>-4.405009e+12</td>\n",
       "      <td>0</td>\n",
       "      <td>2018</td>\n",
       "      <td>04</td>\n",
       "      <td>20</td>\n",
       "    </tr>\n",
       "    <tr>\n",
       "      <th>384</th>\n",
       "      <td>Joshua</td>\n",
       "      <td>Barnett</td>\n",
       "      <td>0.963618</td>\n",
       "      <td>160.581126</td>\n",
       "      <td>Ewing-Quinn</td>\n",
       "      <td>-4.324836e+09</td>\n",
       "      <td>7</td>\n",
       "      <td>2018</td>\n",
       "      <td>04</td>\n",
       "      <td>20</td>\n",
       "    </tr>\n",
       "    <tr>\n",
       "      <th>385</th>\n",
       "      <td>William</td>\n",
       "      <td>Burke</td>\n",
       "      <td>-18.327860</td>\n",
       "      <td>52.056516</td>\n",
       "      <td>Mcbride-Cline</td>\n",
       "      <td>4.026800e+09</td>\n",
       "      <td>7</td>\n",
       "      <td>2018</td>\n",
       "      <td>04</td>\n",
       "      <td>20</td>\n",
       "    </tr>\n",
       "    <tr>\n",
       "      <th>386</th>\n",
       "      <td>Anne</td>\n",
       "      <td>Gibson</td>\n",
       "      <td>-76.624302</td>\n",
       "      <td>74.603104</td>\n",
       "      <td>Diaz Inc</td>\n",
       "      <td>-6.880645e+12</td>\n",
       "      <td>4</td>\n",
       "      <td>2018</td>\n",
       "      <td>04</td>\n",
       "      <td>20</td>\n",
       "    </tr>\n",
       "    <tr>\n",
       "      <th>387</th>\n",
       "      <td>Linda</td>\n",
       "      <td>Smith</td>\n",
       "      <td>57.842307</td>\n",
       "      <td>-50.392696</td>\n",
       "      <td>Smith and Sons</td>\n",
       "      <td>-5.415130e+06</td>\n",
       "      <td>3</td>\n",
       "      <td>2018</td>\n",
       "      <td>04</td>\n",
       "      <td>20</td>\n",
       "    </tr>\n",
       "    <tr>\n",
       "      <th>388</th>\n",
       "      <td>George</td>\n",
       "      <td>Ford</td>\n",
       "      <td>-22.770970</td>\n",
       "      <td>-99.235147</td>\n",
       "      <td>Molina Group</td>\n",
       "      <td>3.306988e+08</td>\n",
       "      <td>1</td>\n",
       "      <td>2018</td>\n",
       "      <td>04</td>\n",
       "      <td>20</td>\n",
       "    </tr>\n",
       "    <tr>\n",
       "      <th>389</th>\n",
       "      <td>Julia</td>\n",
       "      <td>Todd</td>\n",
       "      <td>36.590752</td>\n",
       "      <td>74.156060</td>\n",
       "      <td>Garcia-Brown</td>\n",
       "      <td>5.963421e+09</td>\n",
       "      <td>5</td>\n",
       "      <td>2018</td>\n",
       "      <td>04</td>\n",
       "      <td>20</td>\n",
       "    </tr>\n",
       "    <tr>\n",
       "      <th>390</th>\n",
       "      <td>Carol</td>\n",
       "      <td>Haynes</td>\n",
       "      <td>-83.592624</td>\n",
       "      <td>-29.533655</td>\n",
       "      <td>Mendoza PLC</td>\n",
       "      <td>-3.064243e+08</td>\n",
       "      <td>0</td>\n",
       "      <td>2018</td>\n",
       "      <td>04</td>\n",
       "      <td>20</td>\n",
       "    </tr>\n",
       "    <tr>\n",
       "      <th>391</th>\n",
       "      <td>Aaron</td>\n",
       "      <td>Diaz</td>\n",
       "      <td>-25.924463</td>\n",
       "      <td>-120.157389</td>\n",
       "      <td>Rollins, Duke and Nelson</td>\n",
       "      <td>-6.193904e+05</td>\n",
       "      <td>5</td>\n",
       "      <td>2018</td>\n",
       "      <td>04</td>\n",
       "      <td>20</td>\n",
       "    </tr>\n",
       "    <tr>\n",
       "      <th>392</th>\n",
       "      <td>Seth</td>\n",
       "      <td>Wilson</td>\n",
       "      <td>29.476087</td>\n",
       "      <td>130.648955</td>\n",
       "      <td>Wilson Group</td>\n",
       "      <td>6.727011e+07</td>\n",
       "      <td>2</td>\n",
       "      <td>2018</td>\n",
       "      <td>04</td>\n",
       "      <td>20</td>\n",
       "    </tr>\n",
       "    <tr>\n",
       "      <th>393</th>\n",
       "      <td>Dawn</td>\n",
       "      <td>Thompson</td>\n",
       "      <td>83.992334</td>\n",
       "      <td>-142.519720</td>\n",
       "      <td>Yu-Lopez</td>\n",
       "      <td>8.070294e+08</td>\n",
       "      <td>7</td>\n",
       "      <td>2018</td>\n",
       "      <td>04</td>\n",
       "      <td>20</td>\n",
       "    </tr>\n",
       "    <tr>\n",
       "      <th>394</th>\n",
       "      <td>Jonathan</td>\n",
       "      <td>Johnson</td>\n",
       "      <td>49.678157</td>\n",
       "      <td>-76.623520</td>\n",
       "      <td>Medina PLC</td>\n",
       "      <td>-8.789396e+11</td>\n",
       "      <td>3</td>\n",
       "      <td>2018</td>\n",
       "      <td>04</td>\n",
       "      <td>20</td>\n",
       "    </tr>\n",
       "    <tr>\n",
       "      <th>395</th>\n",
       "      <td>Jessica</td>\n",
       "      <td>Rivera</td>\n",
       "      <td>-44.357343</td>\n",
       "      <td>69.169010</td>\n",
       "      <td>Salazar, Rosario and Butler</td>\n",
       "      <td>-3.400000e+01</td>\n",
       "      <td>5</td>\n",
       "      <td>2018</td>\n",
       "      <td>04</td>\n",
       "      <td>20</td>\n",
       "    </tr>\n",
       "    <tr>\n",
       "      <th>396</th>\n",
       "      <td>Mario</td>\n",
       "      <td>Kim</td>\n",
       "      <td>51.775842</td>\n",
       "      <td>-6.751491</td>\n",
       "      <td>Palmer-Jackson</td>\n",
       "      <td>-8.659855e+04</td>\n",
       "      <td>6</td>\n",
       "      <td>2018</td>\n",
       "      <td>04</td>\n",
       "      <td>20</td>\n",
       "    </tr>\n",
       "    <tr>\n",
       "      <th>397</th>\n",
       "      <td>Erin</td>\n",
       "      <td>Hebert</td>\n",
       "      <td>30.107043</td>\n",
       "      <td>123.924077</td>\n",
       "      <td>Thomas-Guzman</td>\n",
       "      <td>-5.069016e+11</td>\n",
       "      <td>7</td>\n",
       "      <td>2018</td>\n",
       "      <td>04</td>\n",
       "      <td>20</td>\n",
       "    </tr>\n",
       "    <tr>\n",
       "      <th>398</th>\n",
       "      <td>Jason</td>\n",
       "      <td>Butler</td>\n",
       "      <td>-78.082985</td>\n",
       "      <td>-26.853201</td>\n",
       "      <td>Bell Ltd</td>\n",
       "      <td>9.369049e+04</td>\n",
       "      <td>9</td>\n",
       "      <td>2018</td>\n",
       "      <td>04</td>\n",
       "      <td>20</td>\n",
       "    </tr>\n",
       "    <tr>\n",
       "      <th>399</th>\n",
       "      <td>Matthew</td>\n",
       "      <td>Lane</td>\n",
       "      <td>-83.336197</td>\n",
       "      <td>-100.889130</td>\n",
       "      <td>Bush-Flynn</td>\n",
       "      <td>-8.471554e+01</td>\n",
       "      <td>9</td>\n",
       "      <td>2018</td>\n",
       "      <td>04</td>\n",
       "      <td>20</td>\n",
       "    </tr>\n",
       "  </tbody>\n",
       "</table>\n",
       "<p>400 rows × 10 columns</p>\n",
       "</div>"
      ],
      "text/plain": [
       "      first_name   last_name   latitude   longitude  \\\n",
       "0        Crystal        Bell -59.155667 -152.090607   \n",
       "1         Joanna         Cox  24.912468   -3.162301   \n",
       "2      Stephanie     Hoffman  87.269461   79.641391   \n",
       "3         Mathew    Bartlett  19.611374 -160.784623   \n",
       "4        Sabrina    Martinez  57.236799  122.572090   \n",
       "5         Steven   Carpenter  34.542835  -67.101218   \n",
       "6         Justin      Newton -32.946243   42.141609   \n",
       "7          James     Sanchez -56.104262  133.789190   \n",
       "8        Breanna     Johnson  35.216656   15.739880   \n",
       "9          Aaron      Flores  24.716587 -175.554866   \n",
       "10       Annette  Richardson  55.828806   45.166747   \n",
       "11          Adam      Graves -28.064150  160.873835   \n",
       "12        Sandra     Fischer -75.109587  130.559171   \n",
       "13        Kelsey        Cruz  67.300358   43.935784   \n",
       "14      Angelica     Jimenez  37.791662   81.316846   \n",
       "15       Colleen       Henry -42.226956  108.291746   \n",
       "16      Caroline     Wallace  46.862266 -136.008639   \n",
       "17         Jason      Kelley -67.165634  -83.419536   \n",
       "18          John       Walsh   6.388940  -85.029442   \n",
       "19          John     Serrano -88.399851   26.379661   \n",
       "20     Cassandra   Mcpherson -70.659543  139.457561   \n",
       "21       Michael   Fernandez  83.463790  177.073218   \n",
       "22        Joshua      Deleon   1.181131  128.739287   \n",
       "23       Jessica       Jones  49.941903  126.511142   \n",
       "24       Colleen       Stout  48.547302   74.980546   \n",
       "25      Jermaine      Madden  39.964621    7.611573   \n",
       "26          Dana   Armstrong  73.380370   97.119628   \n",
       "27          Lisa      Harris   7.570587 -175.383317   \n",
       "28         Roger    Buchanan  46.197710  -91.970638   \n",
       "29         Megan       David  29.642066  -65.774561   \n",
       "..           ...         ...        ...         ...   \n",
       "370      Bradley     Johnson  79.832259   33.001379   \n",
       "371      Abigail       Ortiz -65.214816   34.726780   \n",
       "372      Matthew        Lowe -80.145533  175.421458   \n",
       "373      Rebecca      Barber -12.971910  -29.204963   \n",
       "374     Kimberly    Cantrell  64.289222   84.362428   \n",
       "375        Karen        Wang -42.794201   83.121315   \n",
       "376      Chelsea        Byrd  32.011804  -54.713767   \n",
       "377       Debbie      Wilson -60.646269  -75.823624   \n",
       "378         Mark        Hull -39.493747   63.065081   \n",
       "379         Paul  Fitzgerald  71.634324  115.966505   \n",
       "380         Alan     Johnson  71.588471 -126.760280   \n",
       "381         Mike       Lopez  51.041999  -76.880209   \n",
       "382  Christopher    Woodward -39.065892 -122.334318   \n",
       "383      Heather     Johnson  80.141844   93.426176   \n",
       "384       Joshua     Barnett   0.963618  160.581126   \n",
       "385      William       Burke -18.327860   52.056516   \n",
       "386         Anne      Gibson -76.624302   74.603104   \n",
       "387        Linda       Smith  57.842307  -50.392696   \n",
       "388       George        Ford -22.770970  -99.235147   \n",
       "389        Julia        Todd  36.590752   74.156060   \n",
       "390        Carol      Haynes -83.592624  -29.533655   \n",
       "391        Aaron        Diaz -25.924463 -120.157389   \n",
       "392         Seth      Wilson  29.476087  130.648955   \n",
       "393         Dawn    Thompson  83.992334 -142.519720   \n",
       "394     Jonathan     Johnson  49.678157  -76.623520   \n",
       "395      Jessica      Rivera -44.357343   69.169010   \n",
       "396        Mario         Kim  51.775842   -6.751491   \n",
       "397         Erin      Hebert  30.107043  123.924077   \n",
       "398        Jason      Butler -78.082985  -26.853201   \n",
       "399      Matthew        Lane -83.336197 -100.889130   \n",
       "\n",
       "                           company       pyfloat  random_digit  year month day  \n",
       "0                     Arias-Hooper  8.821808e+00             6  2018    01  06  \n",
       "1      Williams, Buchanan and Bell  1.278692e+04             1  2018    01  06  \n",
       "2                   Carter-Herrera  5.818807e+11             7  2018    01  06  \n",
       "3      Salazar, Schmidt and Booker  6.784741e+00             2  2018    01  06  \n",
       "4                     Medina Group -8.161000e+03             7  2018    01  06  \n",
       "5                         Hill PLC  1.728653e+13             7  2018    01  06  \n",
       "6                  Thompson-Miller  8.102886e+08             2  2018    01  06  \n",
       "7            Yu, Hull and Valencia  5.900000e+00             0  2018    01  06  \n",
       "8        Martin, Jones and Wiggins -9.900293e+05             6  2018    01  06  \n",
       "9                    Hudson-Rivera  8.965710e+02             4  2018    01  06  \n",
       "10    Preston, Sanchez and Jenkins -9.788750e+05             4  2018    01  06  \n",
       "11                   Mejia-Serrano -3.912530e+14             7  2018    01  06  \n",
       "12                        Reed LLC -6.224536e+08             3  2018    01  06  \n",
       "13               Richard-Rodriguez -2.482688e+05             4  2018    01  06  \n",
       "14                      Murphy LLC -5.045043e+07             7  2018    01  06  \n",
       "15                    Wilson-Baker  3.883051e+07             5  2018    01  06  \n",
       "16      Bonilla, Houston and Ramos  5.001921e+11             7  2018    01  06  \n",
       "17                   Lewis-Mccarty  6.660000e+02             9  2018    01  06  \n",
       "18       Smith, Frank and Cardenas -7.210410e+03             5  2018    01  06  \n",
       "19          Ross, Ortiz and Castro -7.340420e+14             0  2018    01  06  \n",
       "20                    Smith-Joseph  6.796781e+07             5  2018    01  09  \n",
       "21    Rodriguez, Malone and Jensen -4.989948e+11             9  2018    01  09  \n",
       "22                       Hayes PLC -8.779361e+03             3  2018    01  09  \n",
       "23                       Estes Inc  5.760071e+09             5  2018    01  09  \n",
       "24                    Campbell LLC  3.445145e+03             1  2018    01  09  \n",
       "25                   Brown-Simmons -5.610677e+04             7  2018    01  09  \n",
       "26                Michael-Trujillo  8.943128e+10             3  2018    01  09  \n",
       "27          Hall, Mcguire and Diaz  7.252418e+13             4  2018    01  09  \n",
       "28                     Brown-Henry  1.099736e+10             1  2018    01  09  \n",
       "29                    Randall-Luna  5.945969e+02             9  2018    01  09  \n",
       "..                             ...           ...           ...   ...   ...  ..  \n",
       "370        King, Hudson and Nguyen  3.598247e+13             5  2018    04  19  \n",
       "371                    Rich-Thomas  7.848791e+06             9  2018    04  19  \n",
       "372                    Wallace PLC  2.886981e+08             8  2018    04  19  \n",
       "373  Washington, Holden and Holder -8.848500e+11             2  2018    04  19  \n",
       "374                   Franklin-Lee -2.308371e+03             4  2018    04  19  \n",
       "375                Ramsey-Anderson  7.722711e+08             5  2018    04  19  \n",
       "376                      Mills PLC  8.616692e+08             4  2018    04  19  \n",
       "377                   Sandoval Ltd  4.282621e+07             1  2018    04  19  \n",
       "378                Bennett-Clayton -7.159076e+07             2  2018    04  19  \n",
       "379         Serrano, Ray and Perez  1.678978e+14             7  2018    04  19  \n",
       "380                  Baker-Ramirez -2.519652e+00             1  2018    04  20  \n",
       "381                      Brock Ltd  9.882025e+13             3  2018    04  20  \n",
       "382      Nelson, Greer and Shields  6.172513e+11             9  2018    04  20  \n",
       "383               Jimenez-Gonzales -4.405009e+12             0  2018    04  20  \n",
       "384                    Ewing-Quinn -4.324836e+09             7  2018    04  20  \n",
       "385                  Mcbride-Cline  4.026800e+09             7  2018    04  20  \n",
       "386                       Diaz Inc -6.880645e+12             4  2018    04  20  \n",
       "387                 Smith and Sons -5.415130e+06             3  2018    04  20  \n",
       "388                   Molina Group  3.306988e+08             1  2018    04  20  \n",
       "389                   Garcia-Brown  5.963421e+09             5  2018    04  20  \n",
       "390                    Mendoza PLC -3.064243e+08             0  2018    04  20  \n",
       "391       Rollins, Duke and Nelson -6.193904e+05             5  2018    04  20  \n",
       "392                   Wilson Group  6.727011e+07             2  2018    04  20  \n",
       "393                       Yu-Lopez  8.070294e+08             7  2018    04  20  \n",
       "394                     Medina PLC -8.789396e+11             3  2018    04  20  \n",
       "395    Salazar, Rosario and Butler -3.400000e+01             5  2018    04  20  \n",
       "396                 Palmer-Jackson -8.659855e+04             6  2018    04  20  \n",
       "397                  Thomas-Guzman -5.069016e+11             7  2018    04  20  \n",
       "398                       Bell Ltd  9.369049e+04             9  2018    04  20  \n",
       "399                     Bush-Flynn -8.471554e+01             9  2018    04  20  \n",
       "\n",
       "[400 rows x 10 columns]"
      ]
     },
     "execution_count": 40,
     "metadata": {},
     "output_type": "execute_result"
    }
   ],
   "source": [
    "combined_data"
   ]
  },
  {
   "cell_type": "code",
   "execution_count": 45,
   "metadata": {
    "collapsed": true
   },
   "outputs": [],
   "source": [
    "%matplotlib inline"
   ]
  },
  {
   "cell_type": "code",
   "execution_count": 58,
   "metadata": {},
   "outputs": [
    {
     "data": {
      "text/plain": [
       "<matplotlib.axes._subplots.AxesSubplot at 0x112671b00>"
      ]
     },
     "execution_count": 58,
     "metadata": {},
     "output_type": "execute_result"
    },
    {
     "data": {
      "image/png": "[encoded data removed]",
      "text/plain": [
       "<matplotlib.figure.Figure at 0x11267e4e0>"
      ]
     },
     "metadata": {},
     "output_type": "display_data"
    }
   ],
   "source": [
    "combined_data.plot(x='year', y='random_digit')"
   ]
  },
  {
   "cell_type": "code",
   "execution_count": 64,
   "metadata": {},
   "outputs": [
    {
     "data": {
      "text/plain": [
       "<matplotlib.axes._subplots.AxesSubplot at 0x112e10a20>"
      ]
     },
     "execution_count": 64,
     "metadata": {},
     "output_type": "execute_result"
    },
    {
     "data": {
      "image/png": "[encoded data removed]",
      "text/plain": [
       "<matplotlib.figure.Figure at 0x112e1c208>"
      ]
     },
     "metadata": {},
     "output_type": "display_data"
    }
   ],
   "source": [
    "combined_data['pyfloat'].hist()"
   ]
  },
  {
   "cell_type": "markdown",
   "metadata": {},
   "source": [
    "### End here -if time go to mosiqutos "
   ]
  },
  {
   "cell_type": "markdown",
   "metadata": {
    "collapsed": true
   },
   "source": [
    "### Challenge - Write a Directory and Add Files to it\n",
    "\n",
    "* Under `02-work` we have a number of files related to recent work we've been engaged in\n",
    "* We want to move this to a directory for the current Year and month `yyyy-mm`\n",
    "* Then we want to write a loop that moves those files into that directory prepended with the yyyy-mm-dd\n"
   ]
  },
  {
   "cell_type": "code",
   "execution_count": 64,
   "metadata": {
    "scrolled": true
   },
   "outputs": [
    {
     "name": "stdout",
     "output_type": "stream",
     "text": [
      "\u001b[34mdata/02-work/\u001b[00m\r\n",
      "├── \u001b[31mcensuspopdata.xlsx\u001b[00m\r\n",
      "├── \u001b[31mcombinedminutes.pdf\u001b[00m\r\n",
      "├── \u001b[31mdemo.docx\u001b[00m\r\n",
      "├── \u001b[31mdimensions.xlsx\u001b[00m\r\n",
      "├── \u001b[31mduesRecords.xlsx\u001b[00m\r\n",
      "├── \u001b[31mencrypted.pdf\u001b[00m\r\n",
      "├── \u001b[31mencryptedminutes.pdf\u001b[00m\r\n",
      "├── \u001b[31mexample.csv\u001b[00m\r\n",
      "├── \u001b[31mexample.html\u001b[00m\r\n",
      "├── \u001b[31mexample.xlsx\u001b[00m\r\n",
      "├── \u001b[31mfreezeExample.xlsx\u001b[00m\r\n",
      "├── \u001b[31mheadings.docx\u001b[00m\r\n",
      "├── \u001b[31mhelloworld.docx\u001b[00m\r\n",
      "├── \u001b[31mmeetingminutes.pdf\u001b[00m\r\n",
      "├── \u001b[31mmeetingminutes2.pdf\u001b[00m\r\n",
      "├── \u001b[31mmerged.xlsx\u001b[00m\r\n",
      "├── \u001b[31mmultipleParagraphs.docx\u001b[00m\r\n",
      "├── \u001b[31mproduceSales.xlsx\u001b[00m\r\n",
      "├── \u001b[31mrestyled.docx\u001b[00m\r\n",
      "├── \u001b[31msampleChart.xlsx\u001b[00m\r\n",
      "├── \u001b[31mstyled.xlsx\u001b[00m\r\n",
      "├── \u001b[31mstyles.xlsx\u001b[00m\r\n",
      "├── \u001b[31mtwoPage.docx\u001b[00m\r\n",
      "├── \u001b[31mupdatedProduceSales.xlsx\u001b[00m\r\n",
      "└── \u001b[31mwatermark.pdf\u001b[00m\r\n",
      "\r\n",
      "0 directories, 25 files\r\n"
     ]
    }
   ],
   "source": [
    "!tree data/02-work/"
   ]
  },
  {
   "cell_type": "code",
   "execution_count": 65,
   "metadata": {
    "collapsed": true
   },
   "outputs": [],
   "source": [
    "import os"
   ]
  },
  {
   "cell_type": "code",
   "execution_count": 66,
   "metadata": {
    "collapsed": true
   },
   "outputs": [],
   "source": [
    "os.makedirs('/Users/timdennis/lessons/py-mass-useful/data/02-work/2018-04')"
   ]
  },
  {
   "cell_type": "code",
   "execution_count": 68,
   "metadata": {},
   "outputs": [
    {
     "data": {
      "text/plain": [
       "['/Users/timdennis/lessons/py-mass-useful/data/02-work/2018-04',\n",
       " '/Users/timdennis/lessons/py-mass-useful/data/02-work/censuspopdata.xlsx',\n",
       " '/Users/timdennis/lessons/py-mass-useful/data/02-work/combinedminutes.pdf',\n",
       " '/Users/timdennis/lessons/py-mass-useful/data/02-work/demo.docx',\n",
       " '/Users/timdennis/lessons/py-mass-useful/data/02-work/dimensions.xlsx',\n",
       " '/Users/timdennis/lessons/py-mass-useful/data/02-work/duesRecords.xlsx',\n",
       " '/Users/timdennis/lessons/py-mass-useful/data/02-work/encrypted.pdf',\n",
       " '/Users/timdennis/lessons/py-mass-useful/data/02-work/encryptedminutes.pdf',\n",
       " '/Users/timdennis/lessons/py-mass-useful/data/02-work/example.csv',\n",
       " '/Users/timdennis/lessons/py-mass-useful/data/02-work/example.html',\n",
       " '/Users/timdennis/lessons/py-mass-useful/data/02-work/example.xlsx',\n",
       " '/Users/timdennis/lessons/py-mass-useful/data/02-work/freezeExample.xlsx',\n",
       " '/Users/timdennis/lessons/py-mass-useful/data/02-work/headings.docx',\n",
       " '/Users/timdennis/lessons/py-mass-useful/data/02-work/helloworld.docx',\n",
       " '/Users/timdennis/lessons/py-mass-useful/data/02-work/meetingminutes.pdf',\n",
       " '/Users/timdennis/lessons/py-mass-useful/data/02-work/meetingminutes2.pdf',\n",
       " '/Users/timdennis/lessons/py-mass-useful/data/02-work/merged.xlsx',\n",
       " '/Users/timdennis/lessons/py-mass-useful/data/02-work/multipleParagraphs.docx',\n",
       " '/Users/timdennis/lessons/py-mass-useful/data/02-work/produceSales.xlsx',\n",
       " '/Users/timdennis/lessons/py-mass-useful/data/02-work/restyled.docx',\n",
       " '/Users/timdennis/lessons/py-mass-useful/data/02-work/sampleChart.xlsx',\n",
       " '/Users/timdennis/lessons/py-mass-useful/data/02-work/styled.xlsx',\n",
       " '/Users/timdennis/lessons/py-mass-useful/data/02-work/styles.xlsx',\n",
       " '/Users/timdennis/lessons/py-mass-useful/data/02-work/twoPage.docx',\n",
       " '/Users/timdennis/lessons/py-mass-useful/data/02-work/updatedProduceSales.xlsx',\n",
       " '/Users/timdennis/lessons/py-mass-useful/data/02-work/watermark.pdf']"
      ]
     },
     "execution_count": 68,
     "metadata": {},
     "output_type": "execute_result"
    }
   ],
   "source": [
    "glob.glob('/Users/timdennis/lessons/py-mass-useful/data/02-work/*')"
   ]
  },
  {
   "cell_type": "code",
   "execution_count": 69,
   "metadata": {},
   "outputs": [
    {
     "name": "stdout",
     "output_type": "stream",
     "text": [
      "data/02-work/2018-04\n",
      "data/02-work/censuspopdata.xlsx\n",
      "data/02-work/combinedminutes.pdf\n",
      "data/02-work/demo.docx\n",
      "data/02-work/dimensions.xlsx\n",
      "data/02-work/duesRecords.xlsx\n",
      "data/02-work/encrypted.pdf\n",
      "data/02-work/encryptedminutes.pdf\n",
      "data/02-work/example.csv\n",
      "data/02-work/example.html\n",
      "data/02-work/example.xlsx\n",
      "data/02-work/freezeExample.xlsx\n",
      "data/02-work/headings.docx\n",
      "data/02-work/helloworld.docx\n",
      "data/02-work/meetingminutes.pdf\n",
      "data/02-work/meetingminutes2.pdf\n",
      "data/02-work/merged.xlsx\n",
      "data/02-work/multipleParagraphs.docx\n",
      "data/02-work/produceSales.xlsx\n",
      "data/02-work/restyled.docx\n",
      "data/02-work/sampleChart.xlsx\n",
      "data/02-work/styled.xlsx\n",
      "data/02-work/styles.xlsx\n",
      "data/02-work/twoPage.docx\n",
      "data/02-work/updatedProduceSales.xlsx\n",
      "data/02-work/watermark.pdf\n"
     ]
    }
   ],
   "source": [
    "for file in glob.glob('data/02-work/*'):\n",
    "    print(file)"
   ]
  },
  {
   "cell_type": "markdown",
   "metadata": {},
   "source": [
    "http://pbpython.com/excel-file-combine.html\n",
    "https://github.com/chris1610/pbpython"
   ]
  },
  {
   "cell_type": "code",
   "execution_count": 83,
   "metadata": {},
   "outputs": [
    {
     "ename": "FileNotFoundError",
     "evalue": "[Errno 2] No such file or directory: '/Users/timdennis/lessons/py-mass-useful/data/2018-04/censuspopdata.xlsx'",
     "output_type": "error",
     "traceback": [
      "\u001b[0;31m---------------------------------------------------------------------------\u001b[0m",
      "\u001b[0;31mFileNotFoundError\u001b[0m                         Traceback (most recent call last)",
      "\u001b[0;32m<ipython-input-83-1e32232f4a2a>\u001b[0m in \u001b[0;36m<module>\u001b[0;34m()\u001b[0m\n\u001b[1;32m      3\u001b[0m     \u001b[0mfile_parts\u001b[0m \u001b[0;34m=\u001b[0m \u001b[0mfile\u001b[0m\u001b[0;34m.\u001b[0m\u001b[0msplit\u001b[0m\u001b[0;34m(\u001b[0m\u001b[0;34m'/'\u001b[0m\u001b[0;34m)\u001b[0m\u001b[0;34m\u001b[0m\u001b[0m\n\u001b[1;32m      4\u001b[0m     \u001b[0;31m#print(file)\u001b[0m\u001b[0;34m\u001b[0m\u001b[0;34m\u001b[0m\u001b[0m\n\u001b[0;32m----> 5\u001b[0;31m     \u001b[0mshutil\u001b[0m\u001b[0;34m.\u001b[0m\u001b[0mcopy\u001b[0m\u001b[0;34m(\u001b[0m\u001b[0mpath\u001b[0m \u001b[0;34m+\u001b[0m \u001b[0mfile\u001b[0m\u001b[0;34m,\u001b[0m \u001b[0mpath\u001b[0m\u001b[0;34m+\u001b[0m \u001b[0;34m'data/2018-04/'\u001b[0m \u001b[0;34m+\u001b[0m \u001b[0mfile_parts\u001b[0m\u001b[0;34m[\u001b[0m\u001b[0;36m2\u001b[0m\u001b[0;34m]\u001b[0m\u001b[0;34m)\u001b[0m\u001b[0;34m\u001b[0m\u001b[0m\n\u001b[0m",
      "\u001b[0;32m/Users/timdennis/anaconda3/lib/python3.5/shutil.py\u001b[0m in \u001b[0;36mcopy\u001b[0;34m(src, dst, follow_symlinks)\u001b[0m\n\u001b[1;32m    239\u001b[0m     \u001b[0;32mif\u001b[0m \u001b[0mos\u001b[0m\u001b[0;34m.\u001b[0m\u001b[0mpath\u001b[0m\u001b[0;34m.\u001b[0m\u001b[0misdir\u001b[0m\u001b[0;34m(\u001b[0m\u001b[0mdst\u001b[0m\u001b[0;34m)\u001b[0m\u001b[0;34m:\u001b[0m\u001b[0;34m\u001b[0m\u001b[0m\n\u001b[1;32m    240\u001b[0m         \u001b[0mdst\u001b[0m \u001b[0;34m=\u001b[0m \u001b[0mos\u001b[0m\u001b[0;34m.\u001b[0m\u001b[0mpath\u001b[0m\u001b[0;34m.\u001b[0m\u001b[0mjoin\u001b[0m\u001b[0;34m(\u001b[0m\u001b[0mdst\u001b[0m\u001b[0;34m,\u001b[0m \u001b[0mos\u001b[0m\u001b[0;34m.\u001b[0m\u001b[0mpath\u001b[0m\u001b[0;34m.\u001b[0m\u001b[0mbasename\u001b[0m\u001b[0;34m(\u001b[0m\u001b[0msrc\u001b[0m\u001b[0;34m)\u001b[0m\u001b[0;34m)\u001b[0m\u001b[0;34m\u001b[0m\u001b[0m\n\u001b[0;32m--> 241\u001b[0;31m     \u001b[0mcopyfile\u001b[0m\u001b[0;34m(\u001b[0m\u001b[0msrc\u001b[0m\u001b[0;34m,\u001b[0m \u001b[0mdst\u001b[0m\u001b[0;34m,\u001b[0m \u001b[0mfollow_symlinks\u001b[0m\u001b[0;34m=\u001b[0m\u001b[0mfollow_symlinks\u001b[0m\u001b[0;34m)\u001b[0m\u001b[0;34m\u001b[0m\u001b[0m\n\u001b[0m\u001b[1;32m    242\u001b[0m     \u001b[0mcopymode\u001b[0m\u001b[0;34m(\u001b[0m\u001b[0msrc\u001b[0m\u001b[0;34m,\u001b[0m \u001b[0mdst\u001b[0m\u001b[0;34m,\u001b[0m \u001b[0mfollow_symlinks\u001b[0m\u001b[0;34m=\u001b[0m\u001b[0mfollow_symlinks\u001b[0m\u001b[0;34m)\u001b[0m\u001b[0;34m\u001b[0m\u001b[0m\n\u001b[1;32m    243\u001b[0m     \u001b[0;32mreturn\u001b[0m \u001b[0mdst\u001b[0m\u001b[0;34m\u001b[0m\u001b[0m\n",
      "\u001b[0;32m/Users/timdennis/anaconda3/lib/python3.5/shutil.py\u001b[0m in \u001b[0;36mcopyfile\u001b[0;34m(src, dst, follow_symlinks)\u001b[0m\n\u001b[1;32m    119\u001b[0m     \u001b[0;32melse\u001b[0m\u001b[0;34m:\u001b[0m\u001b[0;34m\u001b[0m\u001b[0m\n\u001b[1;32m    120\u001b[0m         \u001b[0;32mwith\u001b[0m \u001b[0mopen\u001b[0m\u001b[0;34m(\u001b[0m\u001b[0msrc\u001b[0m\u001b[0;34m,\u001b[0m \u001b[0;34m'rb'\u001b[0m\u001b[0;34m)\u001b[0m \u001b[0;32mas\u001b[0m \u001b[0mfsrc\u001b[0m\u001b[0;34m:\u001b[0m\u001b[0;34m\u001b[0m\u001b[0m\n\u001b[0;32m--> 121\u001b[0;31m             \u001b[0;32mwith\u001b[0m \u001b[0mopen\u001b[0m\u001b[0;34m(\u001b[0m\u001b[0mdst\u001b[0m\u001b[0;34m,\u001b[0m \u001b[0;34m'wb'\u001b[0m\u001b[0;34m)\u001b[0m \u001b[0;32mas\u001b[0m \u001b[0mfdst\u001b[0m\u001b[0;34m:\u001b[0m\u001b[0;34m\u001b[0m\u001b[0m\n\u001b[0m\u001b[1;32m    122\u001b[0m                 \u001b[0mcopyfileobj\u001b[0m\u001b[0;34m(\u001b[0m\u001b[0mfsrc\u001b[0m\u001b[0;34m,\u001b[0m \u001b[0mfdst\u001b[0m\u001b[0;34m)\u001b[0m\u001b[0;34m\u001b[0m\u001b[0m\n\u001b[1;32m    123\u001b[0m     \u001b[0;32mreturn\u001b[0m \u001b[0mdst\u001b[0m\u001b[0;34m\u001b[0m\u001b[0m\n",
      "\u001b[0;31mFileNotFoundError\u001b[0m: [Errno 2] No such file or directory: '/Users/timdennis/lessons/py-mass-useful/data/2018-04/censuspopdata.xlsx'"
     ]
    }
   ],
   "source": [
    "for file in glob.glob('data/02-work/*.*'):\n",
    "    path = '/Users/timdennis/lessons/py-mass-useful/'\n",
    "    file_parts = file.split('/')\n",
    "    #print(file)\n",
    "    shutil.copy(path + file, path+ 'data/2018-04/' + file_parts[2])"
   ]
  },
  {
   "cell_type": "markdown",
   "metadata": {},
   "source": [
    "* word freq\n",
    "\n",
    "https://programminghistorian.org/lessons/counting-frequencies"
   ]
  }
 ],
 "metadata": {
  "kernelspec": {
   "display_name": "Python [conda env:anaconda3]",
   "language": "python",
   "name": "conda-env-anaconda3-py"
  },
  "language_info": {
   "codemirror_mode": {
    "name": "ipython",
    "version": 3
   },
   "file_extension": ".py",
   "mimetype": "text/x-python",
   "name": "python",
   "nbconvert_exporter": "python",
   "pygments_lexer": "ipython3",
   "version": "3.5.3"
  }
 },
 "nbformat": 4,
 "nbformat_minor": 2
}
